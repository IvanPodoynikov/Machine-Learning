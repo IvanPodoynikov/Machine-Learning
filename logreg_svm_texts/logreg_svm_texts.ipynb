{
  "cells": [
    {
      "cell_type": "markdown",
      "source": [
        "# Описание"
      ],
      "metadata": {
        "id": "DO7Mdlu05_-o"
      }
    },
    {
      "cell_type": "markdown",
      "source": [
        "## Цель"
      ],
      "metadata": {
        "id": "dLHhCdtH6CZ3"
      }
    },
    {
      "cell_type": "markdown",
      "source": [
        "Изучение метода логистической регрессии, метода опорных векторов.  \n",
        "Изучение методов работы с текстовыми данными."
      ],
      "metadata": {
        "id": "VvUNaYS8DcpQ"
      }
    },
    {
      "cell_type": "markdown",
      "source": [
        "## Задачи"
      ],
      "metadata": {
        "id": "zJwKRVSbEG1A"
      }
    },
    {
      "cell_type": "markdown",
      "source": [
        "1. LR, SVM и калибровка вероятностей.\n",
        "* Сравнение моделей с помощью ROC, PR кривых.\n",
        "* Визуализация в подходах SVM, LR.\n",
        "* Калибровка вероятностей.\n",
        "2. Работа с текстами.\n",
        "* Разведочный анализ и предобработка данных.\n",
        "* Токенизация.\n",
        "* Кастомный токенайзер.\n",
        "* Обучение модели.\n",
        "* tf-idf векторайзер.\n"
      ],
      "metadata": {
        "id": "vWCb8HasEIsC"
      }
    },
    {
      "cell_type": "markdown",
      "source": [
        "## Входные данные"
      ],
      "metadata": {
        "id": "sgDq4h1rG4XA"
      }
    },
    {
      "cell_type": "markdown",
      "source": [
        "1. Синтетические данные.\n",
        "2. Датасет из Твиттера. Описание данных можно найти [здесь](https://www.kaggle.com/competitions/nlp-getting-started/data)"
      ],
      "metadata": {
        "id": "xjHz-an9G6lK"
      }
    },
    {
      "cell_type": "markdown",
      "metadata": {
        "id": "KGWDDNDyP75O"
      },
      "source": [
        "### LR, SVM и калибровка вероятностей"
      ]
    },
    {
      "cell_type": "code",
      "execution_count": null,
      "metadata": {
        "id": "KyqoX1BNP75N"
      },
      "outputs": [],
      "source": [
        "import numpy as np\n",
        "import pandas as pd\n",
        "import matplotlib.pyplot as plt\n",
        "%matplotlib inline\n",
        "\n",
        "pd.set_option('display.max_rows', 100)\n",
        "pd.set_option('display.max_columns', 100)"
      ]
    },
    {
      "cell_type": "code",
      "source": [
        "np.random.seed(42)"
      ],
      "metadata": {
        "id": "NNAJAi5P8aqj"
      },
      "execution_count": null,
      "outputs": []
    },
    {
      "cell_type": "markdown",
      "metadata": {
        "id": "xvhLtt4OP75Q"
      },
      "source": [
        "#### Сравнение моделей с помощью ROC, PR\n",
        "\n"
      ]
    },
    {
      "cell_type": "markdown",
      "metadata": {
        "id": "LZw2aOq9P75O"
      },
      "source": [
        "Сгенерируем синтетические данные."
      ]
    },
    {
      "cell_type": "code",
      "source": [
        "from sklearn.datasets import make_classification\n",
        "from sklearn.model_selection import train_test_split"
      ],
      "metadata": {
        "id": "1iIYJqEWZ84C"
      },
      "execution_count": null,
      "outputs": []
    },
    {
      "cell_type": "code",
      "execution_count": null,
      "metadata": {
        "id": "mqkczFrQP75P"
      },
      "outputs": [],
      "source": [
        "# фиксируем random_state для воспроизводимости результатов\n",
        "X, y = make_classification(\n",
        "    n_samples=10000, n_features=10, n_informative=5, n_redundant=5, random_state=42)\n",
        "\n",
        "X_train, X_test, y_train, y_test = train_test_split(X, y, test_size=0.3, random_state=42)"
      ]
    },
    {
      "cell_type": "markdown",
      "source": [
        "Заметим, что данные сгенерированы так, что 5 последних столбцов линейно зависимы с предыдущими"
      ],
      "metadata": {
        "id": "ALVB6nIqxwDi"
      }
    },
    {
      "cell_type": "markdown",
      "metadata": {
        "id": "BdPx-lQbtaRe"
      },
      "source": [
        "__Случайный классификатор__\n",
        "\n",
        "Для начала зададим самую простую модель, которая на каждом объекте выдаёт случайный ответ. По тестовой выборке вычислим AUC-ROC, AUC-PR."
      ]
    },
    {
      "cell_type": "code",
      "execution_count": null,
      "metadata": {
        "colab": {
          "base_uri": "https://localhost:8080/"
        },
        "id": "5gcSglAOjVn-",
        "outputId": "64acce24-5fa1-4a30-d582-0d7629db2daf"
      },
      "outputs": [
        {
          "output_type": "execute_result",
          "data": {
            "text/plain": [
              "array([0.5, 0.5, 0.5, ..., 0.5, 0.5, 0.5])"
            ]
          },
          "metadata": {},
          "execution_count": 5
        }
      ],
      "source": [
        "from sklearn.dummy import DummyClassifier\n",
        "random_classifier = DummyClassifier(strategy='uniform', random_state=42).fit(X_train, y_train)\n",
        "y_random = random_classifier.predict_proba(X_test)[:,1]\n",
        "y_random"
      ]
    },
    {
      "cell_type": "markdown",
      "metadata": {
        "id": "LnmZFwEYDVqx"
      },
      "source": [
        "Напишем пайплайн для отрисовки ROC и PR кривых, сохранения метрик."
      ]
    },
    {
      "cell_type": "code",
      "execution_count": null,
      "metadata": {
        "id": "gNJLhNj7DkLx"
      },
      "outputs": [],
      "source": [
        "from sklearn.metrics import auc\n",
        "from sklearn.metrics import average_precision_score\n",
        "from sklearn.metrics import precision_recall_curve\n",
        "from sklearn.metrics import PrecisionRecallDisplay\n",
        "\n",
        "from sklearn.metrics import roc_auc_score\n",
        "from sklearn.metrics import roc_curve\n",
        "from sklearn.metrics import RocCurveDisplay"
      ]
    },
    {
      "cell_type": "code",
      "execution_count": null,
      "metadata": {
        "colab": {
          "base_uri": "https://localhost:8080/",
          "height": 540
        },
        "id": "-WHELzN6_fsQ",
        "outputId": "172f3b4e-1195-4329-923a-90549e8886d7"
      },
      "outputs": [
        {
          "output_type": "stream",
          "name": "stdout",
          "text": [
            "Random Classifier metrics\n",
            "AUC-PR: 0.75283\n",
            "AUC-ROC: 0.50000\n"
          ]
        },
        {
          "output_type": "display_data",
          "data": {
            "text/plain": [
              "<Figure size 1100x500 with 2 Axes>"
            ],
            "image/png": "[encoded data removed]"
          },
          "metadata": {}
        }
      ],
      "source": [
        "def depict_pr_roc(y_true, y_pred, classifier_name='Some Classifier', ax=None):\n",
        "  if ax is None:\n",
        "    fig, ax = plt.subplots(1, 2, figsize=(11, 5))\n",
        "\n",
        "  print(classifier_name, 'metrics')\n",
        "  precision, recall, _ = precision_recall_curve(y_true, y_pred)\n",
        "  ax[0].step(recall, precision, where = 'post', label = classifier_name + f' (AP = {average_precision_score(y_true, y_pred):.2f})')\n",
        "  ax[0].set_xlabel('Recall (Positive label: 1)')\n",
        "  ax[0].set_ylabel('Precision (Positive label: 1)')\n",
        "  ax[0].set_title(\"PRC\")\n",
        "  ax[0].set_ylim(0, 1.1)\n",
        "  ax[0].legend(loc = 'lower left')\n",
        "  print('AUC-PR: %.5f' % auc(recall, precision))\n",
        "\n",
        "  fpr, tpr, _ = roc_curve(y_true, y_pred)\n",
        "  ax[1].plot(fpr, tpr, label = classifier_name)\n",
        "  ax[1].fill_between(fpr, tpr, 0, color = 'bisque', alpha = 0.4)\n",
        "  ax[1].set_xlabel('False Positive Rate (Positive label: 1)')\n",
        "  ax[1].set_ylabel('True Positive Rate (Positive label: 1)')\n",
        "  ax[1].set_title(\"ROC\")\n",
        "  ax[1].set_ylim(0, 1.1)\n",
        "  ax[1].legend(loc = 'lower left')\n",
        "  print('AUC-ROC: %.5f' % roc_auc_score(y_true, y_pred))\n",
        "\n",
        "  plt.tight_layout(pad = 2)\n",
        "  plt.show()\n",
        "\n",
        "depict_pr_roc(y_test, y_random, 'Random Classifier');"
      ]
    },
    {
      "cell_type": "code",
      "execution_count": null,
      "metadata": {
        "colab": {
          "base_uri": "https://localhost:8080/",
          "height": 100
        },
        "id": "pSugCdAAEF2z",
        "outputId": "ac628cbd-ff6b-4dfe-ec24-f790358e7dfd"
      },
      "outputs": [
        {
          "output_type": "execute_result",
          "data": {
            "text/plain": [
              "                     AUC_PR  AUC_ROC  reg_const\n",
              "Random Classifier  0.752833      0.5        0.0"
            ],
            "text/html": [
              "\n",
              "  <div id=\"df-4f864a65-7e4f-4fed-a7aa-e0aa3297d2b3\" class=\"colab-df-container\">\n",
              "    <div>\n",
              "<style scoped>\n",
              "    .dataframe tbody tr th:only-of-type {\n",
              "        vertical-align: middle;\n",
              "    }\n",
              "\n",
              "    .dataframe tbody tr th {\n",
              "        vertical-align: top;\n",
              "    }\n",
              "\n",
              "    .dataframe thead th {\n",
              "        text-align: right;\n",
              "    }\n",
              "</style>\n",
              "<table border=\"1\" class=\"dataframe\">\n",
              "  <thead>\n",
              "    <tr style=\"text-align: right;\">\n",
              "      <th></th>\n",
              "      <th>AUC_PR</th>\n",
              "      <th>AUC_ROC</th>\n",
              "      <th>reg_const</th>\n",
              "    </tr>\n",
              "  </thead>\n",
              "  <tbody>\n",
              "    <tr>\n",
              "      <th>Random Classifier</th>\n",
              "      <td>0.752833</td>\n",
              "      <td>0.5</td>\n",
              "      <td>0.0</td>\n",
              "    </tr>\n",
              "  </tbody>\n",
              "</table>\n",
              "</div>\n",
              "    <div class=\"colab-df-buttons\">\n",
              "\n",
              "  <div class=\"colab-df-container\">\n",
              "    <button class=\"colab-df-convert\" onclick=\"convertToInteractive('df-4f864a65-7e4f-4fed-a7aa-e0aa3297d2b3')\"\n",
              "            title=\"Convert this dataframe to an interactive table.\"\n",
              "            style=\"display:none;\">\n",
              "\n",
              "  <svg xmlns=\"http://www.w3.org/2000/svg\" height=\"24px\" viewBox=\"0 -960 960 960\">\n",
              "    <path d=\"M120-120v-720h720v720H120Zm60-500h600v-160H180v160Zm220 220h160v-160H400v160Zm0 220h160v-160H400v160ZM180-400h160v-160H180v160Zm440 0h160v-160H620v160ZM180-180h160v-160H180v160Zm440 0h160v-160H620v160Z\"/>\n",
              "  </svg>\n",
              "    </button>\n",
              "\n",
              "  <style>\n",
              "    .colab-df-container {\n",
              "      display:flex;\n",
              "      gap: 12px;\n",
              "    }\n",
              "\n",
              "    .colab-df-convert {\n",
              "      background-color: #E8F0FE;\n",
              "      border: none;\n",
              "      border-radius: 50%;\n",
              "      cursor: pointer;\n",
              "      display: none;\n",
              "      fill: #1967D2;\n",
              "      height: 32px;\n",
              "      padding: 0 0 0 0;\n",
              "      width: 32px;\n",
              "    }\n",
              "\n",
              "    .colab-df-convert:hover {\n",
              "      background-color: #E2EBFA;\n",
              "      box-shadow: 0px 1px 2px rgba(60, 64, 67, 0.3), 0px 1px 3px 1px rgba(60, 64, 67, 0.15);\n",
              "      fill: #174EA6;\n",
              "    }\n",
              "\n",
              "    .colab-df-buttons div {\n",
              "      margin-bottom: 4px;\n",
              "    }\n",
              "\n",
              "    [theme=dark] .colab-df-convert {\n",
              "      background-color: #3B4455;\n",
              "      fill: #D2E3FC;\n",
              "    }\n",
              "\n",
              "    [theme=dark] .colab-df-convert:hover {\n",
              "      background-color: #434B5C;\n",
              "      box-shadow: 0px 1px 3px 1px rgba(0, 0, 0, 0.15);\n",
              "      filter: drop-shadow(0px 1px 2px rgba(0, 0, 0, 0.3));\n",
              "      fill: #FFFFFF;\n",
              "    }\n",
              "  </style>\n",
              "\n",
              "    <script>\n",
              "      const buttonEl =\n",
              "        document.querySelector('#df-4f864a65-7e4f-4fed-a7aa-e0aa3297d2b3 button.colab-df-convert');\n",
              "      buttonEl.style.display =\n",
              "        google.colab.kernel.accessAllowed ? 'block' : 'none';\n",
              "\n",
              "      async function convertToInteractive(key) {\n",
              "        const element = document.querySelector('#df-4f864a65-7e4f-4fed-a7aa-e0aa3297d2b3');\n",
              "        const dataTable =\n",
              "          await google.colab.kernel.invokeFunction('convertToInteractive',\n",
              "                                                    [key], {});\n",
              "        if (!dataTable) return;\n",
              "\n",
              "        const docLinkHtml = 'Like what you see? Visit the ' +\n",
              "          '<a target=\"_blank\" href=https://colab.research.google.com/notebooks/data_table.ipynb>data table notebook</a>'\n",
              "          + ' to learn more about interactive tables.';\n",
              "        element.innerHTML = '';\n",
              "        dataTable['output_type'] = 'display_data';\n",
              "        await google.colab.output.renderOutput(dataTable, element);\n",
              "        const docLink = document.createElement('div');\n",
              "        docLink.innerHTML = docLinkHtml;\n",
              "        element.appendChild(docLink);\n",
              "      }\n",
              "    </script>\n",
              "  </div>\n",
              "\n",
              "    </div>\n",
              "  </div>\n"
            ],
            "application/vnd.google.colaboratory.intrinsic+json": {
              "type": "dataframe",
              "variable_name": "df_metrics",
              "summary": "{\n  \"name\": \"df_metrics\",\n  \"rows\": 1,\n  \"fields\": [\n    {\n      \"column\": \"AUC_PR\",\n      \"properties\": {\n        \"dtype\": \"number\",\n        \"std\": null,\n        \"min\": 0.7528333333333334,\n        \"max\": 0.7528333333333334,\n        \"num_unique_values\": 1,\n        \"samples\": [\n          0.7528333333333334\n        ],\n        \"semantic_type\": \"\",\n        \"description\": \"\"\n      }\n    },\n    {\n      \"column\": \"AUC_ROC\",\n      \"properties\": {\n        \"dtype\": \"number\",\n        \"std\": null,\n        \"min\": 0.5,\n        \"max\": 0.5,\n        \"num_unique_values\": 1,\n        \"samples\": [\n          0.5\n        ],\n        \"semantic_type\": \"\",\n        \"description\": \"\"\n      }\n    },\n    {\n      \"column\": \"reg_const\",\n      \"properties\": {\n        \"dtype\": \"number\",\n        \"std\": null,\n        \"min\": 0.0,\n        \"max\": 0.0,\n        \"num_unique_values\": 1,\n        \"samples\": [\n          0.0\n        ],\n        \"semantic_type\": \"\",\n        \"description\": \"\"\n      }\n    }\n  ]\n}"
            }
          },
          "metadata": {},
          "execution_count": 8
        }
      ],
      "source": [
        "# dataframe для сравнения\n",
        "# методов классификации по метрикам\n",
        "df_metrics = pd.DataFrame(columns=['AUC_PR', 'AUC_ROC', 'reg_const'])\n",
        "precision, recall, _ = precision_recall_curve(y_test, y_random)\n",
        "  # добавление очередной строки с характеристиками метода\n",
        "df_metrics.loc['Random Classifier'] = [\n",
        "      auc(recall, precision),\n",
        "      roc_auc_score(y_test, y_random),\n",
        "      0\n",
        "]\n",
        "\n",
        "  # по аналогии результаты следующих экспериментов можно будет собрать в табличку\n",
        "df_metrics"
      ]
    },
    {
      "cell_type": "code",
      "source": [
        "def data_add(classifier_name, y_true, y_pred, coef):\n",
        "  auc_pr = auc(precision_recall_curve(y_true, y_pred)[1], precision_recall_curve(y_true, y_pred)[0])\n",
        "  auc_roc = roc_auc_score(y_test, y_svc)\n",
        "  df_metrics.loc[classifier_name] = [\n",
        "      auc_pr,\n",
        "      auc_roc,\n",
        "      coef\n",
        "  ]"
      ],
      "metadata": {
        "id": "8RpSlOWmTZRL"
      },
      "execution_count": null,
      "outputs": []
    },
    {
      "cell_type": "markdown",
      "metadata": {
        "id": "9IwDobmQtW2P"
      },
      "source": [
        "__Support Vector Machine (Linear Kernel)__\n",
        "\n",
        "Обучим метод опорных векторов\n",
        "\n",
        "Подберем параметр регуляризации `C` с точки зрения AUC-PR, воспользовавшись GridSearch\n"
      ]
    },
    {
      "cell_type": "code",
      "source": [
        "def AUCPR(y_true, y_pred):\n",
        "  precision, recall, _ = precision_recall_curve(y_true, y_pred)\n",
        "  return auc(recall, precision)"
      ],
      "metadata": {
        "id": "8ANMNpZIK1XQ"
      },
      "execution_count": null,
      "outputs": []
    },
    {
      "cell_type": "code",
      "source": [
        "from sklearn.svm import SVC\n",
        "from sklearn.model_selection import GridSearchCV\n",
        "from sklearn.metrics import make_scorer"
      ],
      "metadata": {
        "id": "RCgEgjTg3Rky"
      },
      "execution_count": null,
      "outputs": []
    },
    {
      "cell_type": "code",
      "source": [
        "scorer = make_scorer(AUCPR)"
      ],
      "metadata": {
        "id": "vy61if2FaCZc"
      },
      "execution_count": null,
      "outputs": []
    },
    {
      "cell_type": "code",
      "execution_count": null,
      "metadata": {
        "id": "eyjF-qc3P75Q",
        "colab": {
          "base_uri": "https://localhost:8080/"
        },
        "outputId": "24fca0d0-e9ce-45f0-9288-96213f46f612"
      },
      "outputs": [
        {
          "output_type": "stream",
          "name": "stdout",
          "text": [
            "Fitting 5 folds for each of 4 candidates, totalling 20 fits\n",
            "[CV 1/5; 1/4] START C=0.01......................................................\n",
            "[CV 1/5; 1/4] END .......................C=0.01;, score=0.837 total time=   2.1s\n",
            "[CV 2/5; 1/4] START C=0.01......................................................\n",
            "[CV 2/5; 1/4] END .......................C=0.01;, score=0.825 total time=   3.4s\n",
            "[CV 3/5; 1/4] START C=0.01......................................................\n",
            "[CV 3/5; 1/4] END .......................C=0.01;, score=0.840 total time=   2.5s\n",
            "[CV 4/5; 1/4] START C=0.01......................................................\n",
            "[CV 4/5; 1/4] END .......................C=0.01;, score=0.836 total time=   2.9s\n",
            "[CV 5/5; 1/4] START C=0.01......................................................\n",
            "[CV 5/5; 1/4] END .......................C=0.01;, score=0.835 total time=   2.7s\n",
            "[CV 1/5; 2/4] START C=0.1.......................................................\n",
            "[CV 1/5; 2/4] END ........................C=0.1;, score=0.837 total time=   5.9s\n",
            "[CV 2/5; 2/4] START C=0.1.......................................................\n",
            "[CV 2/5; 2/4] END ........................C=0.1;, score=0.825 total time=   3.5s\n",
            "[CV 3/5; 2/4] START C=0.1.......................................................\n",
            "[CV 3/5; 2/4] END ........................C=0.1;, score=0.842 total time=   2.5s\n",
            "[CV 4/5; 2/4] START C=0.1.......................................................\n",
            "[CV 4/5; 2/4] END ........................C=0.1;, score=0.835 total time=   1.2s\n",
            "[CV 5/5; 2/4] START C=0.1.......................................................\n",
            "[CV 5/5; 2/4] END ........................C=0.1;, score=0.835 total time=   1.2s\n",
            "[CV 1/5; 3/4] START C=1.........................................................\n",
            "[CV 1/5; 3/4] END ..........................C=1;, score=0.837 total time=   3.3s\n",
            "[CV 2/5; 3/4] START C=1.........................................................\n",
            "[CV 2/5; 3/4] END ..........................C=1;, score=0.826 total time=   2.5s\n",
            "[CV 3/5; 3/4] START C=1.........................................................\n",
            "[CV 3/5; 3/4] END ..........................C=1;, score=0.842 total time=   3.1s\n",
            "[CV 4/5; 3/4] START C=1.........................................................\n",
            "[CV 4/5; 3/4] END ..........................C=1;, score=0.835 total time=   2.7s\n",
            "[CV 5/5; 3/4] START C=1.........................................................\n",
            "[CV 5/5; 3/4] END ..........................C=1;, score=0.835 total time=   3.2s\n",
            "[CV 1/5; 4/4] START C=10........................................................\n",
            "[CV 1/5; 4/4] END .........................C=10;, score=0.836 total time=  11.0s\n",
            "[CV 2/5; 4/4] START C=10........................................................\n",
            "[CV 2/5; 4/4] END .........................C=10;, score=0.825 total time=  10.9s\n",
            "[CV 3/5; 4/4] START C=10........................................................\n",
            "[CV 3/5; 4/4] END .........................C=10;, score=0.841 total time=  11.6s\n",
            "[CV 4/5; 4/4] START C=10........................................................\n",
            "[CV 4/5; 4/4] END .........................C=10;, score=0.835 total time=  10.9s\n",
            "[CV 5/5; 4/4] START C=10........................................................\n",
            "[CV 5/5; 4/4] END .........................C=10;, score=0.835 total time=  11.9s\n"
          ]
        },
        {
          "output_type": "execute_result",
          "data": {
            "text/plain": [
              "{'C': 1}"
            ]
          },
          "metadata": {},
          "execution_count": 13
        }
      ],
      "source": [
        "param_grid = {\n",
        "    'C': [0.01, 0.1, 1, 10]\n",
        "}\n",
        "svc = SVC(kernel = 'linear')\n",
        "grid_search_svc = GridSearchCV(svc, param_grid, cv = 5, scoring = scorer, verbose = 10)\n",
        "grid_search_svc.fit(X_train, y_train)\n",
        "grid_search_svc.best_params_"
      ]
    },
    {
      "cell_type": "markdown",
      "source": [
        "Лучший гиперпараметр: `С = 1`"
      ],
      "metadata": {
        "id": "1J0FGz2MSTYD"
      }
    },
    {
      "cell_type": "markdown",
      "metadata": {
        "id": "fapa63xlP75R"
      },
      "source": [
        "  На тестовой части:\n",
        "  - построим ROC и PR кривые,\n",
        "  - посчитаем AUC-ROC, AUC-PR с точностью до 5 знаков"
      ]
    },
    {
      "cell_type": "code",
      "execution_count": null,
      "metadata": {
        "id": "xTvNT5uRP75S",
        "colab": {
          "base_uri": "https://localhost:8080/",
          "height": 540
        },
        "outputId": "e8be53af-0453-4789-eef2-cfba577d57f3"
      },
      "outputs": [
        {
          "output_type": "stream",
          "name": "stdout",
          "text": [
            "SVC metrics\n",
            "AUC-PR: 0.83369\n",
            "AUC-ROC: 0.77514\n"
          ]
        },
        {
          "output_type": "display_data",
          "data": {
            "text/plain": [
              "<Figure size 1100x500 with 2 Axes>"
            ],
            "image/png": "[encoded data removed]"
          },
          "metadata": {}
        }
      ],
      "source": [
        "y_svc = grid_search_svc.predict(X_test)\n",
        "depict_pr_roc(y_test, y_svc, 'SVC')"
      ]
    },
    {
      "cell_type": "markdown",
      "metadata": {
        "id": "tEoGp5EDtIzW"
      },
      "source": [
        "Сравним AUC-ROC и AUC-PR для SVC модели с этими же метриками для случайного классификатора."
      ]
    },
    {
      "cell_type": "code",
      "source": [
        "data_add('SVC', y_test, y_svc, 1)\n",
        "df_metrics"
      ],
      "metadata": {
        "colab": {
          "base_uri": "https://localhost:8080/",
          "height": 130
        },
        "id": "Qpl346OkVk7U",
        "outputId": "200a661b-7e44-4802-ed62-ea68b599e513"
      },
      "execution_count": null,
      "outputs": [
        {
          "output_type": "execute_result",
          "data": {
            "text/plain": [
              "                     AUC_PR   AUC_ROC  reg_const\n",
              "Random Classifier  0.752833  0.500000        0.0\n",
              "SVC                0.833686  0.775138        1.0"
            ],
            "text/html": [
              "\n",
              "  <div id=\"df-29430475-2058-49dc-8a69-ea2c176b2c05\" class=\"colab-df-container\">\n",
              "    <div>\n",
              "<style scoped>\n",
              "    .dataframe tbody tr th:only-of-type {\n",
              "        vertical-align: middle;\n",
              "    }\n",
              "\n",
              "    .dataframe tbody tr th {\n",
              "        vertical-align: top;\n",
              "    }\n",
              "\n",
              "    .dataframe thead th {\n",
              "        text-align: right;\n",
              "    }\n",
              "</style>\n",
              "<table border=\"1\" class=\"dataframe\">\n",
              "  <thead>\n",
              "    <tr style=\"text-align: right;\">\n",
              "      <th></th>\n",
              "      <th>AUC_PR</th>\n",
              "      <th>AUC_ROC</th>\n",
              "      <th>reg_const</th>\n",
              "    </tr>\n",
              "  </thead>\n",
              "  <tbody>\n",
              "    <tr>\n",
              "      <th>Random Classifier</th>\n",
              "      <td>0.752833</td>\n",
              "      <td>0.500000</td>\n",
              "      <td>0.0</td>\n",
              "    </tr>\n",
              "    <tr>\n",
              "      <th>SVC</th>\n",
              "      <td>0.833686</td>\n",
              "      <td>0.775138</td>\n",
              "      <td>1.0</td>\n",
              "    </tr>\n",
              "  </tbody>\n",
              "</table>\n",
              "</div>\n",
              "    <div class=\"colab-df-buttons\">\n",
              "\n",
              "  <div class=\"colab-df-container\">\n",
              "    <button class=\"colab-df-convert\" onclick=\"convertToInteractive('df-29430475-2058-49dc-8a69-ea2c176b2c05')\"\n",
              "            title=\"Convert this dataframe to an interactive table.\"\n",
              "            style=\"display:none;\">\n",
              "\n",
              "  <svg xmlns=\"http://www.w3.org/2000/svg\" height=\"24px\" viewBox=\"0 -960 960 960\">\n",
              "    <path d=\"M120-120v-720h720v720H120Zm60-500h600v-160H180v160Zm220 220h160v-160H400v160Zm0 220h160v-160H400v160ZM180-400h160v-160H180v160Zm440 0h160v-160H620v160ZM180-180h160v-160H180v160Zm440 0h160v-160H620v160Z\"/>\n",
              "  </svg>\n",
              "    </button>\n",
              "\n",
              "  <style>\n",
              "    .colab-df-container {\n",
              "      display:flex;\n",
              "      gap: 12px;\n",
              "    }\n",
              "\n",
              "    .colab-df-convert {\n",
              "      background-color: #E8F0FE;\n",
              "      border: none;\n",
              "      border-radius: 50%;\n",
              "      cursor: pointer;\n",
              "      display: none;\n",
              "      fill: #1967D2;\n",
              "      height: 32px;\n",
              "      padding: 0 0 0 0;\n",
              "      width: 32px;\n",
              "    }\n",
              "\n",
              "    .colab-df-convert:hover {\n",
              "      background-color: #E2EBFA;\n",
              "      box-shadow: 0px 1px 2px rgba(60, 64, 67, 0.3), 0px 1px 3px 1px rgba(60, 64, 67, 0.15);\n",
              "      fill: #174EA6;\n",
              "    }\n",
              "\n",
              "    .colab-df-buttons div {\n",
              "      margin-bottom: 4px;\n",
              "    }\n",
              "\n",
              "    [theme=dark] .colab-df-convert {\n",
              "      background-color: #3B4455;\n",
              "      fill: #D2E3FC;\n",
              "    }\n",
              "\n",
              "    [theme=dark] .colab-df-convert:hover {\n",
              "      background-color: #434B5C;\n",
              "      box-shadow: 0px 1px 3px 1px rgba(0, 0, 0, 0.15);\n",
              "      filter: drop-shadow(0px 1px 2px rgba(0, 0, 0, 0.3));\n",
              "      fill: #FFFFFF;\n",
              "    }\n",
              "  </style>\n",
              "\n",
              "    <script>\n",
              "      const buttonEl =\n",
              "        document.querySelector('#df-29430475-2058-49dc-8a69-ea2c176b2c05 button.colab-df-convert');\n",
              "      buttonEl.style.display =\n",
              "        google.colab.kernel.accessAllowed ? 'block' : 'none';\n",
              "\n",
              "      async function convertToInteractive(key) {\n",
              "        const element = document.querySelector('#df-29430475-2058-49dc-8a69-ea2c176b2c05');\n",
              "        const dataTable =\n",
              "          await google.colab.kernel.invokeFunction('convertToInteractive',\n",
              "                                                    [key], {});\n",
              "        if (!dataTable) return;\n",
              "\n",
              "        const docLinkHtml = 'Like what you see? Visit the ' +\n",
              "          '<a target=\"_blank\" href=https://colab.research.google.com/notebooks/data_table.ipynb>data table notebook</a>'\n",
              "          + ' to learn more about interactive tables.';\n",
              "        element.innerHTML = '';\n",
              "        dataTable['output_type'] = 'display_data';\n",
              "        await google.colab.output.renderOutput(dataTable, element);\n",
              "        const docLink = document.createElement('div');\n",
              "        docLink.innerHTML = docLinkHtml;\n",
              "        element.appendChild(docLink);\n",
              "      }\n",
              "    </script>\n",
              "  </div>\n",
              "\n",
              "\n",
              "<div id=\"df-67329d4f-6ecc-4e56-af2d-25439c01206a\">\n",
              "  <button class=\"colab-df-quickchart\" onclick=\"quickchart('df-67329d4f-6ecc-4e56-af2d-25439c01206a')\"\n",
              "            title=\"Suggest charts\"\n",
              "            style=\"display:none;\">\n",
              "\n",
              "<svg xmlns=\"http://www.w3.org/2000/svg\" height=\"24px\"viewBox=\"0 0 24 24\"\n",
              "     width=\"24px\">\n",
              "    <g>\n",
              "        <path d=\"M19 3H5c-1.1 0-2 .9-2 2v14c0 1.1.9 2 2 2h14c1.1 0 2-.9 2-2V5c0-1.1-.9-2-2-2zM9 17H7v-7h2v7zm4 0h-2V7h2v10zm4 0h-2v-4h2v4z\"/>\n",
              "    </g>\n",
              "</svg>\n",
              "  </button>\n",
              "\n",
              "<style>\n",
              "  .colab-df-quickchart {\n",
              "      --bg-color: #E8F0FE;\n",
              "      --fill-color: #1967D2;\n",
              "      --hover-bg-color: #E2EBFA;\n",
              "      --hover-fill-color: #174EA6;\n",
              "      --disabled-fill-color: #AAA;\n",
              "      --disabled-bg-color: #DDD;\n",
              "  }\n",
              "\n",
              "  [theme=dark] .colab-df-quickchart {\n",
              "      --bg-color: #3B4455;\n",
              "      --fill-color: #D2E3FC;\n",
              "      --hover-bg-color: #434B5C;\n",
              "      --hover-fill-color: #FFFFFF;\n",
              "      --disabled-bg-color: #3B4455;\n",
              "      --disabled-fill-color: #666;\n",
              "  }\n",
              "\n",
              "  .colab-df-quickchart {\n",
              "    background-color: var(--bg-color);\n",
              "    border: none;\n",
              "    border-radius: 50%;\n",
              "    cursor: pointer;\n",
              "    display: none;\n",
              "    fill: var(--fill-color);\n",
              "    height: 32px;\n",
              "    padding: 0;\n",
              "    width: 32px;\n",
              "  }\n",
              "\n",
              "  .colab-df-quickchart:hover {\n",
              "    background-color: var(--hover-bg-color);\n",
              "    box-shadow: 0 1px 2px rgba(60, 64, 67, 0.3), 0 1px 3px 1px rgba(60, 64, 67, 0.15);\n",
              "    fill: var(--button-hover-fill-color);\n",
              "  }\n",
              "\n",
              "  .colab-df-quickchart-complete:disabled,\n",
              "  .colab-df-quickchart-complete:disabled:hover {\n",
              "    background-color: var(--disabled-bg-color);\n",
              "    fill: var(--disabled-fill-color);\n",
              "    box-shadow: none;\n",
              "  }\n",
              "\n",
              "  .colab-df-spinner {\n",
              "    border: 2px solid var(--fill-color);\n",
              "    border-color: transparent;\n",
              "    border-bottom-color: var(--fill-color);\n",
              "    animation:\n",
              "      spin 1s steps(1) infinite;\n",
              "  }\n",
              "\n",
              "  @keyframes spin {\n",
              "    0% {\n",
              "      border-color: transparent;\n",
              "      border-bottom-color: var(--fill-color);\n",
              "      border-left-color: var(--fill-color);\n",
              "    }\n",
              "    20% {\n",
              "      border-color: transparent;\n",
              "      border-left-color: var(--fill-color);\n",
              "      border-top-color: var(--fill-color);\n",
              "    }\n",
              "    30% {\n",
              "      border-color: transparent;\n",
              "      border-left-color: var(--fill-color);\n",
              "      border-top-color: var(--fill-color);\n",
              "      border-right-color: var(--fill-color);\n",
              "    }\n",
              "    40% {\n",
              "      border-color: transparent;\n",
              "      border-right-color: var(--fill-color);\n",
              "      border-top-color: var(--fill-color);\n",
              "    }\n",
              "    60% {\n",
              "      border-color: transparent;\n",
              "      border-right-color: var(--fill-color);\n",
              "    }\n",
              "    80% {\n",
              "      border-color: transparent;\n",
              "      border-right-color: var(--fill-color);\n",
              "      border-bottom-color: var(--fill-color);\n",
              "    }\n",
              "    90% {\n",
              "      border-color: transparent;\n",
              "      border-bottom-color: var(--fill-color);\n",
              "    }\n",
              "  }\n",
              "</style>\n",
              "\n",
              "  <script>\n",
              "    async function quickchart(key) {\n",
              "      const quickchartButtonEl =\n",
              "        document.querySelector('#' + key + ' button');\n",
              "      quickchartButtonEl.disabled = true;  // To prevent multiple clicks.\n",
              "      quickchartButtonEl.classList.add('colab-df-spinner');\n",
              "      try {\n",
              "        const charts = await google.colab.kernel.invokeFunction(\n",
              "            'suggestCharts', [key], {});\n",
              "      } catch (error) {\n",
              "        console.error('Error during call to suggestCharts:', error);\n",
              "      }\n",
              "      quickchartButtonEl.classList.remove('colab-df-spinner');\n",
              "      quickchartButtonEl.classList.add('colab-df-quickchart-complete');\n",
              "    }\n",
              "    (() => {\n",
              "      let quickchartButtonEl =\n",
              "        document.querySelector('#df-67329d4f-6ecc-4e56-af2d-25439c01206a button');\n",
              "      quickchartButtonEl.style.display =\n",
              "        google.colab.kernel.accessAllowed ? 'block' : 'none';\n",
              "    })();\n",
              "  </script>\n",
              "</div>\n",
              "    </div>\n",
              "  </div>\n"
            ],
            "application/vnd.google.colaboratory.intrinsic+json": {
              "type": "dataframe",
              "variable_name": "df_metrics",
              "summary": "{\n  \"name\": \"df_metrics\",\n  \"rows\": 2,\n  \"fields\": [\n    {\n      \"column\": \"AUC_PR\",\n      \"properties\": {\n        \"dtype\": \"number\",\n        \"std\": 0.05717166240804259,\n        \"min\": 0.7528333333333334,\n        \"max\": 0.8336862736942032,\n        \"num_unique_values\": 2,\n        \"samples\": [\n          0.8336862736942032,\n          0.7528333333333334\n        ],\n        \"semantic_type\": \"\",\n        \"description\": \"\"\n      }\n    },\n    {\n      \"column\": \"AUC_ROC\",\n      \"properties\": {\n        \"dtype\": \"number\",\n        \"std\": 0.19455210739469242,\n        \"min\": 0.5,\n        \"max\": 0.7751382288658409,\n        \"num_unique_values\": 2,\n        \"samples\": [\n          0.7751382288658409,\n          0.5\n        ],\n        \"semantic_type\": \"\",\n        \"description\": \"\"\n      }\n    },\n    {\n      \"column\": \"reg_const\",\n      \"properties\": {\n        \"dtype\": \"number\",\n        \"std\": 0.7071067811865476,\n        \"min\": 0.0,\n        \"max\": 1.0,\n        \"num_unique_values\": 2,\n        \"samples\": [\n          1.0,\n          0.0\n        ],\n        \"semantic_type\": \"\",\n        \"description\": \"\"\n      }\n    }\n  ]\n}"
            }
          },
          "metadata": {},
          "execution_count": 15
        }
      ]
    },
    {
      "cell_type": "markdown",
      "metadata": {
        "id": "Ln5VaZE_P75S"
      },
      "source": [
        "__Logistic Regression__\n",
        "\n",
        "\n",
        "Проделаем то же самое для логистической регрессии с L2 регуляризацией:\n",
        "\n",
        "\n",
        "*   подберем гиперпараметр C, используя метрику AUC-PR\n",
        "*   нарисуем ROC, PR кривые для тестовой части\n",
        "*   выведем метрики для тестовых данных и сравним их с предыдущими результатами\n",
        "\n"
      ]
    },
    {
      "cell_type": "code",
      "source": [
        "from sklearn.linear_model import LogisticRegression"
      ],
      "metadata": {
        "id": "WwI9VA36305L"
      },
      "execution_count": null,
      "outputs": []
    },
    {
      "cell_type": "code",
      "execution_count": null,
      "metadata": {
        "id": "r1TlamoBP75S",
        "colab": {
          "base_uri": "https://localhost:8080/"
        },
        "outputId": "b44d67a4-9fd7-4521-9bec-8d0048373c9f"
      },
      "outputs": [
        {
          "output_type": "stream",
          "name": "stdout",
          "text": [
            "Fitting 5 folds for each of 4 candidates, totalling 20 fits\n",
            "[CV 1/5; 1/4] START C=0.01......................................................\n",
            "[CV 1/5; 1/4] END .......................C=0.01;, score=0.836 total time=   0.1s\n",
            "[CV 2/5; 1/4] START C=0.01......................................................\n",
            "[CV 2/5; 1/4] END .......................C=0.01;, score=0.826 total time=   0.1s\n",
            "[CV 3/5; 1/4] START C=0.01......................................................\n",
            "[CV 3/5; 1/4] END .......................C=0.01;, score=0.842 total time=   0.1s\n",
            "[CV 4/5; 1/4] START C=0.01......................................................\n",
            "[CV 4/5; 1/4] END .......................C=0.01;, score=0.834 total time=   0.1s\n",
            "[CV 5/5; 1/4] START C=0.01......................................................\n",
            "[CV 5/5; 1/4] END .......................C=0.01;, score=0.832 total time=   0.0s\n",
            "[CV 1/5; 2/4] START C=0.1.......................................................\n",
            "[CV 1/5; 2/4] END ........................C=0.1;, score=0.836 total time=   0.0s\n",
            "[CV 2/5; 2/4] START C=0.1.......................................................\n",
            "[CV 2/5; 2/4] END ........................C=0.1;, score=0.825 total time=   0.0s\n",
            "[CV 3/5; 2/4] START C=0.1.......................................................\n",
            "[CV 3/5; 2/4] END ........................C=0.1;, score=0.841 total time=   0.0s\n",
            "[CV 4/5; 2/4] START C=0.1.......................................................\n",
            "[CV 4/5; 2/4] END ........................C=0.1;, score=0.835 total time=   0.0s\n",
            "[CV 5/5; 2/4] START C=0.1.......................................................\n",
            "[CV 5/5; 2/4] END ........................C=0.1;, score=0.832 total time=   0.0s\n",
            "[CV 1/5; 3/4] START C=1.........................................................\n",
            "[CV 1/5; 3/4] END ..........................C=1;, score=0.836 total time=   0.0s\n",
            "[CV 2/5; 3/4] START C=1.........................................................\n",
            "[CV 2/5; 3/4] END ..........................C=1;, score=0.825 total time=   0.0s\n",
            "[CV 3/5; 3/4] START C=1.........................................................\n",
            "[CV 3/5; 3/4] END ..........................C=1;, score=0.841 total time=   0.0s\n",
            "[CV 4/5; 3/4] START C=1.........................................................\n",
            "[CV 4/5; 3/4] END ..........................C=1;, score=0.835 total time=   0.0s\n",
            "[CV 5/5; 3/4] START C=1.........................................................\n",
            "[CV 5/5; 3/4] END ..........................C=1;, score=0.832 total time=   0.0s\n",
            "[CV 1/5; 4/4] START C=10........................................................\n",
            "[CV 1/5; 4/4] END .........................C=10;, score=0.836 total time=   0.0s\n",
            "[CV 2/5; 4/4] START C=10........................................................\n",
            "[CV 2/5; 4/4] END .........................C=10;, score=0.825 total time=   0.0s\n",
            "[CV 3/5; 4/4] START C=10........................................................\n",
            "[CV 3/5; 4/4] END .........................C=10;, score=0.841 total time=   0.0s\n",
            "[CV 4/5; 4/4] START C=10........................................................\n",
            "[CV 4/5; 4/4] END .........................C=10;, score=0.835 total time=   0.0s\n",
            "[CV 5/5; 4/4] START C=10........................................................\n",
            "[CV 5/5; 4/4] END .........................C=10;, score=0.832 total time=   0.0s\n"
          ]
        },
        {
          "output_type": "execute_result",
          "data": {
            "text/plain": [
              "{'C': 0.01}"
            ]
          },
          "metadata": {},
          "execution_count": 17
        }
      ],
      "source": [
        "log_reg = LogisticRegression(penalty = 'l2')\n",
        "param_grid = {\n",
        "    'C': [0.01, 0.1, 1, 10]\n",
        "}\n",
        "grid_reg = GridSearchCV(log_reg, param_grid, cv = 5, scoring = scorer, verbose = 10)\n",
        "grid_reg.fit(X_train, y_train)\n",
        "grid_reg.best_params_"
      ]
    },
    {
      "cell_type": "code",
      "source": [
        "y_reg = grid_reg.predict(X_test)\n",
        "data_add('LogReg', y_test, y_reg, 0.01)\n",
        "df_metrics"
      ],
      "metadata": {
        "colab": {
          "base_uri": "https://localhost:8080/",
          "height": 160
        },
        "id": "dLs07vI74eXW",
        "outputId": "ee585966-0e55-440d-9a79-cadf24ffdc41"
      },
      "execution_count": null,
      "outputs": [
        {
          "output_type": "execute_result",
          "data": {
            "text/plain": [
              "                     AUC_PR   AUC_ROC  reg_const\n",
              "Random Classifier  0.752833  0.500000       0.00\n",
              "SVC                0.833686  0.775138       1.00\n",
              "LogReg             0.831672  0.775138       0.01"
            ],
            "text/html": [
              "\n",
              "  <div id=\"df-1a626326-0271-489d-aaf9-e9062d56ddc9\" class=\"colab-df-container\">\n",
              "    <div>\n",
              "<style scoped>\n",
              "    .dataframe tbody tr th:only-of-type {\n",
              "        vertical-align: middle;\n",
              "    }\n",
              "\n",
              "    .dataframe tbody tr th {\n",
              "        vertical-align: top;\n",
              "    }\n",
              "\n",
              "    .dataframe thead th {\n",
              "        text-align: right;\n",
              "    }\n",
              "</style>\n",
              "<table border=\"1\" class=\"dataframe\">\n",
              "  <thead>\n",
              "    <tr style=\"text-align: right;\">\n",
              "      <th></th>\n",
              "      <th>AUC_PR</th>\n",
              "      <th>AUC_ROC</th>\n",
              "      <th>reg_const</th>\n",
              "    </tr>\n",
              "  </thead>\n",
              "  <tbody>\n",
              "    <tr>\n",
              "      <th>Random Classifier</th>\n",
              "      <td>0.752833</td>\n",
              "      <td>0.500000</td>\n",
              "      <td>0.00</td>\n",
              "    </tr>\n",
              "    <tr>\n",
              "      <th>SVC</th>\n",
              "      <td>0.833686</td>\n",
              "      <td>0.775138</td>\n",
              "      <td>1.00</td>\n",
              "    </tr>\n",
              "    <tr>\n",
              "      <th>LogReg</th>\n",
              "      <td>0.831672</td>\n",
              "      <td>0.775138</td>\n",
              "      <td>0.01</td>\n",
              "    </tr>\n",
              "  </tbody>\n",
              "</table>\n",
              "</div>\n",
              "    <div class=\"colab-df-buttons\">\n",
              "\n",
              "  <div class=\"colab-df-container\">\n",
              "    <button class=\"colab-df-convert\" onclick=\"convertToInteractive('df-1a626326-0271-489d-aaf9-e9062d56ddc9')\"\n",
              "            title=\"Convert this dataframe to an interactive table.\"\n",
              "            style=\"display:none;\">\n",
              "\n",
              "  <svg xmlns=\"http://www.w3.org/2000/svg\" height=\"24px\" viewBox=\"0 -960 960 960\">\n",
              "    <path d=\"M120-120v-720h720v720H120Zm60-500h600v-160H180v160Zm220 220h160v-160H400v160Zm0 220h160v-160H400v160ZM180-400h160v-160H180v160Zm440 0h160v-160H620v160ZM180-180h160v-160H180v160Zm440 0h160v-160H620v160Z\"/>\n",
              "  </svg>\n",
              "    </button>\n",
              "\n",
              "  <style>\n",
              "    .colab-df-container {\n",
              "      display:flex;\n",
              "      gap: 12px;\n",
              "    }\n",
              "\n",
              "    .colab-df-convert {\n",
              "      background-color: #E8F0FE;\n",
              "      border: none;\n",
              "      border-radius: 50%;\n",
              "      cursor: pointer;\n",
              "      display: none;\n",
              "      fill: #1967D2;\n",
              "      height: 32px;\n",
              "      padding: 0 0 0 0;\n",
              "      width: 32px;\n",
              "    }\n",
              "\n",
              "    .colab-df-convert:hover {\n",
              "      background-color: #E2EBFA;\n",
              "      box-shadow: 0px 1px 2px rgba(60, 64, 67, 0.3), 0px 1px 3px 1px rgba(60, 64, 67, 0.15);\n",
              "      fill: #174EA6;\n",
              "    }\n",
              "\n",
              "    .colab-df-buttons div {\n",
              "      margin-bottom: 4px;\n",
              "    }\n",
              "\n",
              "    [theme=dark] .colab-df-convert {\n",
              "      background-color: #3B4455;\n",
              "      fill: #D2E3FC;\n",
              "    }\n",
              "\n",
              "    [theme=dark] .colab-df-convert:hover {\n",
              "      background-color: #434B5C;\n",
              "      box-shadow: 0px 1px 3px 1px rgba(0, 0, 0, 0.15);\n",
              "      filter: drop-shadow(0px 1px 2px rgba(0, 0, 0, 0.3));\n",
              "      fill: #FFFFFF;\n",
              "    }\n",
              "  </style>\n",
              "\n",
              "    <script>\n",
              "      const buttonEl =\n",
              "        document.querySelector('#df-1a626326-0271-489d-aaf9-e9062d56ddc9 button.colab-df-convert');\n",
              "      buttonEl.style.display =\n",
              "        google.colab.kernel.accessAllowed ? 'block' : 'none';\n",
              "\n",
              "      async function convertToInteractive(key) {\n",
              "        const element = document.querySelector('#df-1a626326-0271-489d-aaf9-e9062d56ddc9');\n",
              "        const dataTable =\n",
              "          await google.colab.kernel.invokeFunction('convertToInteractive',\n",
              "                                                    [key], {});\n",
              "        if (!dataTable) return;\n",
              "\n",
              "        const docLinkHtml = 'Like what you see? Visit the ' +\n",
              "          '<a target=\"_blank\" href=https://colab.research.google.com/notebooks/data_table.ipynb>data table notebook</a>'\n",
              "          + ' to learn more about interactive tables.';\n",
              "        element.innerHTML = '';\n",
              "        dataTable['output_type'] = 'display_data';\n",
              "        await google.colab.output.renderOutput(dataTable, element);\n",
              "        const docLink = document.createElement('div');\n",
              "        docLink.innerHTML = docLinkHtml;\n",
              "        element.appendChild(docLink);\n",
              "      }\n",
              "    </script>\n",
              "  </div>\n",
              "\n",
              "\n",
              "<div id=\"df-bed3ff21-448c-4604-979f-a6d7fa0f02a2\">\n",
              "  <button class=\"colab-df-quickchart\" onclick=\"quickchart('df-bed3ff21-448c-4604-979f-a6d7fa0f02a2')\"\n",
              "            title=\"Suggest charts\"\n",
              "            style=\"display:none;\">\n",
              "\n",
              "<svg xmlns=\"http://www.w3.org/2000/svg\" height=\"24px\"viewBox=\"0 0 24 24\"\n",
              "     width=\"24px\">\n",
              "    <g>\n",
              "        <path d=\"M19 3H5c-1.1 0-2 .9-2 2v14c0 1.1.9 2 2 2h14c1.1 0 2-.9 2-2V5c0-1.1-.9-2-2-2zM9 17H7v-7h2v7zm4 0h-2V7h2v10zm4 0h-2v-4h2v4z\"/>\n",
              "    </g>\n",
              "</svg>\n",
              "  </button>\n",
              "\n",
              "<style>\n",
              "  .colab-df-quickchart {\n",
              "      --bg-color: #E8F0FE;\n",
              "      --fill-color: #1967D2;\n",
              "      --hover-bg-color: #E2EBFA;\n",
              "      --hover-fill-color: #174EA6;\n",
              "      --disabled-fill-color: #AAA;\n",
              "      --disabled-bg-color: #DDD;\n",
              "  }\n",
              "\n",
              "  [theme=dark] .colab-df-quickchart {\n",
              "      --bg-color: #3B4455;\n",
              "      --fill-color: #D2E3FC;\n",
              "      --hover-bg-color: #434B5C;\n",
              "      --hover-fill-color: #FFFFFF;\n",
              "      --disabled-bg-color: #3B4455;\n",
              "      --disabled-fill-color: #666;\n",
              "  }\n",
              "\n",
              "  .colab-df-quickchart {\n",
              "    background-color: var(--bg-color);\n",
              "    border: none;\n",
              "    border-radius: 50%;\n",
              "    cursor: pointer;\n",
              "    display: none;\n",
              "    fill: var(--fill-color);\n",
              "    height: 32px;\n",
              "    padding: 0;\n",
              "    width: 32px;\n",
              "  }\n",
              "\n",
              "  .colab-df-quickchart:hover {\n",
              "    background-color: var(--hover-bg-color);\n",
              "    box-shadow: 0 1px 2px rgba(60, 64, 67, 0.3), 0 1px 3px 1px rgba(60, 64, 67, 0.15);\n",
              "    fill: var(--button-hover-fill-color);\n",
              "  }\n",
              "\n",
              "  .colab-df-quickchart-complete:disabled,\n",
              "  .colab-df-quickchart-complete:disabled:hover {\n",
              "    background-color: var(--disabled-bg-color);\n",
              "    fill: var(--disabled-fill-color);\n",
              "    box-shadow: none;\n",
              "  }\n",
              "\n",
              "  .colab-df-spinner {\n",
              "    border: 2px solid var(--fill-color);\n",
              "    border-color: transparent;\n",
              "    border-bottom-color: var(--fill-color);\n",
              "    animation:\n",
              "      spin 1s steps(1) infinite;\n",
              "  }\n",
              "\n",
              "  @keyframes spin {\n",
              "    0% {\n",
              "      border-color: transparent;\n",
              "      border-bottom-color: var(--fill-color);\n",
              "      border-left-color: var(--fill-color);\n",
              "    }\n",
              "    20% {\n",
              "      border-color: transparent;\n",
              "      border-left-color: var(--fill-color);\n",
              "      border-top-color: var(--fill-color);\n",
              "    }\n",
              "    30% {\n",
              "      border-color: transparent;\n",
              "      border-left-color: var(--fill-color);\n",
              "      border-top-color: var(--fill-color);\n",
              "      border-right-color: var(--fill-color);\n",
              "    }\n",
              "    40% {\n",
              "      border-color: transparent;\n",
              "      border-right-color: var(--fill-color);\n",
              "      border-top-color: var(--fill-color);\n",
              "    }\n",
              "    60% {\n",
              "      border-color: transparent;\n",
              "      border-right-color: var(--fill-color);\n",
              "    }\n",
              "    80% {\n",
              "      border-color: transparent;\n",
              "      border-right-color: var(--fill-color);\n",
              "      border-bottom-color: var(--fill-color);\n",
              "    }\n",
              "    90% {\n",
              "      border-color: transparent;\n",
              "      border-bottom-color: var(--fill-color);\n",
              "    }\n",
              "  }\n",
              "</style>\n",
              "\n",
              "  <script>\n",
              "    async function quickchart(key) {\n",
              "      const quickchartButtonEl =\n",
              "        document.querySelector('#' + key + ' button');\n",
              "      quickchartButtonEl.disabled = true;  // To prevent multiple clicks.\n",
              "      quickchartButtonEl.classList.add('colab-df-spinner');\n",
              "      try {\n",
              "        const charts = await google.colab.kernel.invokeFunction(\n",
              "            'suggestCharts', [key], {});\n",
              "      } catch (error) {\n",
              "        console.error('Error during call to suggestCharts:', error);\n",
              "      }\n",
              "      quickchartButtonEl.classList.remove('colab-df-spinner');\n",
              "      quickchartButtonEl.classList.add('colab-df-quickchart-complete');\n",
              "    }\n",
              "    (() => {\n",
              "      let quickchartButtonEl =\n",
              "        document.querySelector('#df-bed3ff21-448c-4604-979f-a6d7fa0f02a2 button');\n",
              "      quickchartButtonEl.style.display =\n",
              "        google.colab.kernel.accessAllowed ? 'block' : 'none';\n",
              "    })();\n",
              "  </script>\n",
              "</div>\n",
              "    </div>\n",
              "  </div>\n"
            ],
            "application/vnd.google.colaboratory.intrinsic+json": {
              "type": "dataframe",
              "variable_name": "df_metrics",
              "summary": "{\n  \"name\": \"df_metrics\",\n  \"rows\": 3,\n  \"fields\": [\n    {\n      \"column\": \"AUC_PR\",\n      \"properties\": {\n        \"dtype\": \"number\",\n        \"std\": 0.04611000395745656,\n        \"min\": 0.7528333333333334,\n        \"max\": 0.8336862736942032,\n        \"num_unique_values\": 3,\n        \"samples\": [\n          0.7528333333333334,\n          0.8336862736942032,\n          0.8316720271036777\n        ],\n        \"semantic_type\": \"\",\n        \"description\": \"\"\n      }\n    },\n    {\n      \"column\": \"AUC_ROC\",\n      \"properties\": {\n        \"dtype\": \"number\",\n        \"std\": 0.15885113050005012,\n        \"min\": 0.5,\n        \"max\": 0.7751382288658409,\n        \"num_unique_values\": 2,\n        \"samples\": [\n          0.7751382288658409,\n          0.5\n        ],\n        \"semantic_type\": \"\",\n        \"description\": \"\"\n      }\n    },\n    {\n      \"column\": \"reg_const\",\n      \"properties\": {\n        \"dtype\": \"number\",\n        \"std\": 0.5744852768638491,\n        \"min\": 0.0,\n        \"max\": 1.0,\n        \"num_unique_values\": 3,\n        \"samples\": [\n          0.0,\n          1.0\n        ],\n        \"semantic_type\": \"\",\n        \"description\": \"\"\n      }\n    }\n  ]\n}"
            }
          },
          "metadata": {},
          "execution_count": 18
        }
      ]
    },
    {
      "cell_type": "markdown",
      "metadata": {
        "id": "Gnj5PG1Rm5qX"
      },
      "source": [
        "Нарисуем ROC, PR кривые для тестовой части для всех 3 классификаторов на одном графике"
      ]
    },
    {
      "cell_type": "code",
      "execution_count": null,
      "metadata": {
        "id": "X3BaXTRBnAwK",
        "colab": {
          "base_uri": "https://localhost:8080/",
          "height": 490
        },
        "outputId": "0ef13e7d-20e5-4a27-b505-a31d3a09dd75"
      },
      "outputs": [
        {
          "output_type": "display_data",
          "data": {
            "text/plain": [
              "<Figure size 1100x500 with 2 Axes>"
            ],
            "image/png": "[encoded data removed]"
          },
          "metadata": {}
        }
      ],
      "source": [
        "fig, ax = plt.subplots(nrows = 1, ncols = 2, figsize = (11,5))\n",
        "precision = [precision_recall_curve(y_test, y)[0] for y in [y_random, y_svc, y_reg]]\n",
        "recall = [precision_recall_curve(y_test, y)[1] for y in [y_random, y_svc, y_reg]]\n",
        "fpr = [roc_curve(y_test, y)[0] for y in [y_random, y_svc, y_reg]]\n",
        "tpr = [roc_curve(y_test, y)[1] for y in [y_random, y_svc, y_reg]]\n",
        "\n",
        "for R, P, FPR, TPR, y, classifier_name in zip(recall, precision, fpr, tpr, [y_random, y_svc, y_reg], ['Random Classifier', 'SVC', 'LogReg']):\n",
        "  ax[0].step(R, P, where = 'post', label = classifier_name + f' (AP = {average_precision_score(y_test, y):.2f})')\n",
        "  ax[1].plot(FPR, TPR, label = classifier_name)\n",
        "\n",
        "ax[0].set_xlabel('Recall (Positive label: 1)')\n",
        "ax[0].set_ylabel('Precision (Positive label: 1)')\n",
        "ax[0].set_title(\"PRC\")\n",
        "ax[0].set_ylim(0, 1.1)\n",
        "ax[0].legend(loc = 'lower left')\n",
        "\n",
        "ax[1].set_xlabel('False Positive Rate (Positive label: 1)')\n",
        "ax[1].set_ylabel('True Positive Rate (Positive label: 1)')\n",
        "ax[1].set_title(\"ROC\")\n",
        "ax[1].set_ylim(0, 1.1)\n",
        "ax[1].legend(loc = 'lower left')\n",
        "\n",
        "plt.tight_layout(pad = 2)\n",
        "plt.show()"
      ]
    },
    {
      "cell_type": "markdown",
      "metadata": {
        "id": "Un_w7BMZIAf2"
      },
      "source": [
        "__Вывод__:  \n",
        "LR и SVM практически не отличаются"
      ]
    },
    {
      "cell_type": "markdown",
      "metadata": {
        "id": "RvWzOe4wP75T"
      },
      "source": [
        "#### Визуализация в подходах SVM, LR\n",
        "\n"
      ]
    },
    {
      "cell_type": "markdown",
      "metadata": {
        "id": "kWS1NfYwBbQ_"
      },
      "source": [
        "В названии метода опорных векторов присутствуют некоторые \"опорные векторы\". Это объекты из обучающей выборки, которые задают положение разделяющей гиперплоскости.\n",
        "\n",
        "* Сгенерируем синтетические данные с помощью `make_classification` __с 2 признаками__, обучим на них метод опорных векторов.\n",
        "\n",
        "* Визуализируем разделяющую прямую и выделим опорные векторы."
      ]
    },
    {
      "cell_type": "code",
      "source": [
        "from sklearn.inspection import DecisionBoundaryDisplay"
      ],
      "metadata": {
        "id": "9_tGPICiizgK"
      },
      "execution_count": null,
      "outputs": []
    },
    {
      "cell_type": "code",
      "execution_count": null,
      "metadata": {
        "id": "qIS-aGxi-Nr0"
      },
      "outputs": [],
      "source": [
        "X_train, y_train = make_classification(n_samples = 350, n_features = 2, n_informative = 2, n_redundant = 0, random_state = 42)\n",
        "model_svc = SVC(kernel = 'linear')\n",
        "model_svc.fit(X_train, y_train);"
      ]
    },
    {
      "cell_type": "code",
      "source": [
        "def plot_svm_2D(X, y, model):\n",
        "  _, ax = plt.subplots(figsize=(5, 5))\n",
        "\n",
        "  common_params = {\"estimator\": model, \"X\": X, \"ax\": ax}\n",
        "  DecisionBoundaryDisplay.from_estimator(\n",
        "      **common_params,\n",
        "      response_method=\"predict\",\n",
        "      plot_method=\"pcolormesh\",\n",
        "      alpha=0.3,\n",
        "  )\n",
        "  DecisionBoundaryDisplay.from_estimator(\n",
        "      **common_params,\n",
        "      response_method=\"decision_function\",\n",
        "      plot_method=\"contour\",\n",
        "      levels=[-1, 0, 1],\n",
        "      colors=[\"k\", \"k\", \"k\"],\n",
        "      linestyles=[\"--\", \"-\", \"--\"],\n",
        "  )\n",
        "\n",
        "  ax.scatter(X[:, 0], X[:, 1], c = y, s = 70, edgecolors = 'k')\n",
        "\n",
        "  vec = model.support_vectors_\n",
        "  # Label the data points (optional)\n",
        "  ax.scatter( vec[:, 0],\n",
        "              vec[:, 1],\n",
        "              label='support vectors',\n",
        "              s= 60,\n",
        "              linewidth=1,\n",
        "              edgecolor=\"blue\",\n",
        "              facecolors='none')\n",
        "  ax.legend(loc=\"upper right\")\n",
        "  plt.show()\n",
        "\n",
        "plot_svm_2D(X_train, y_train, model_svc)"
      ],
      "metadata": {
        "colab": {
          "base_uri": "https://localhost:8080/",
          "height": 466
        },
        "id": "4bAndNvA9ZZ8",
        "outputId": "c82ccafa-a0f5-4cc9-8cad-c6568adb229d"
      },
      "execution_count": null,
      "outputs": [
        {
          "output_type": "display_data",
          "data": {
            "text/plain": [
              "<Figure size 500x500 with 1 Axes>"
            ],
            "image/png": "[encoded data removed]"
          },
          "metadata": {}
        }
      ]
    },
    {
      "cell_type": "markdown",
      "metadata": {
        "id": "gfpVN70PP75U"
      },
      "source": [
        "В отличие от метода опорных векторов, логистическая регрессия не пытается построить разделяющую гиперплоскость с максимальным отступом, а приближает в каждой точке пространства объектов вероятность положительных ответов $p(y=+1|x)$.  \n",
        "Нарисуем это распределение на плоскости."
      ]
    },
    {
      "cell_type": "code",
      "source": [
        "model_reg = LogisticRegression()\n",
        "model_reg.fit(X_train, y_train);"
      ],
      "metadata": {
        "id": "QVpiUKPTnfvl"
      },
      "execution_count": null,
      "outputs": []
    },
    {
      "cell_type": "code",
      "source": [
        "def plot_logreg_2D(X, y, model):\n",
        "\n",
        "    #создали сетку\n",
        "    xx = np.linspace(X[:,0].min(), X[:,0].max(), 100)\n",
        "    yy = np.linspace(X[:,1].min(), X[:,1].max(), 100)\n",
        "    YY, XX = np.meshgrid(yy, xx)\n",
        "    xy = np.vstack([XX.ravel(), YY.ravel()]).T\n",
        "\n",
        "    #Ответы модели для сетки для отрисовки распределения\n",
        "    Z = model.decision_function(xy)\n",
        "    Z = Z.reshape((xx.shape[0], -1)).T\n",
        "\n",
        "\n",
        "    image = plt.imshow(Z, interpolation='nearest',\n",
        "                       extent=(xx.min(), xx.max(), yy.min(), yy.max()),\n",
        "                       aspect='auto', origin='lower', cmap=plt.cm.PuOr_r)\n",
        "\n",
        "    #Отрисовали выборку\n",
        "    plt.scatter(X[:, 0], X[:, 1], c = y, s = 70,\n",
        "                cmap=plt.cm.Paired)\n",
        "\n",
        "    plt.colorbar(image)\n",
        "\n",
        "\n",
        "plot_logreg_2D(X_train, y_train, model_reg)"
      ],
      "metadata": {
        "colab": {
          "base_uri": "https://localhost:8080/",
          "height": 451
        },
        "id": "Lcu1m6zxnrKl",
        "outputId": "df99d8e5-f350-4127-96b8-04033b3cd732"
      },
      "execution_count": null,
      "outputs": [
        {
          "output_type": "display_data",
          "data": {
            "text/plain": [
              "<Figure size 640x480 with 2 Axes>"
            ],
            "image/png": "[encoded data removed]"
          },
          "metadata": {}
        }
      ]
    },
    {
      "cell_type": "markdown",
      "metadata": {
        "id": "SAAF0HiaIh9Z"
      },
      "source": [
        "Область, в которой модель не уверена, обозначена с помощью белой полосы."
      ]
    },
    {
      "cell_type": "markdown",
      "metadata": {
        "id": "4VbJR0e3P75U"
      },
      "source": [
        "#### Калибровка вероятностей\n",
        "\n"
      ]
    },
    {
      "cell_type": "markdown",
      "metadata": {
        "id": "I8taLYSgBd9u"
      },
      "source": [
        "Перейдём к оценке качества выдаваемых алгоритмами вероятностей. Начнём с калибровочных кривых.\n",
        "\n",
        "Допустим, алгоритм возвращает некоторые числа от нуля до единицы. Хотим понять, хорошо ли он оценивает вероятность.\n",
        "\n",
        "Хорошо откалиброванный  классификатор должен выдавать значения так, чтобы среди образцов, для которых он дал значение, близкое к $\\alpha$, примерно $\\alpha * 100 \\%$ фактически принадлежали к положительному классу. (Например, если классификатор выдает 0.3 для некоторых, то 30% из них должны принадлежать классу 1)"
      ]
    },
    {
      "cell_type": "markdown",
      "metadata": {
        "id": "TRBGtMArIxMc"
      },
      "source": [
        "Для построения калибровочной кривой воспользуемся следующим алгоритмом:\n",
        "\n",
        "Разобьем отрезок $[0, 1]$ на несколько маленьких отрезков одинаковой длины.\n",
        "\n",
        "Рассмотрим $i$-й отрезок с границами $[a_i, b_i]$ и предсказания $p_1, p_2, \\dots, p_k$, которые попали в него. Пусть им соответствуют истинные ответы $y_1, y_2, \\dots, y_k$. Если алгоритм выдает корректные вероятности, то среди этих истинных ответов должно быть примерно $(a_i + b_i) / 2$ единиц. Иными словами, если нарисовать кривую, у которой по оси X отложены центры отрезков, а по оси Y — доли единичных ответов этих в отрезках, то она должна оказаться диагональной."
      ]
    },
    {
      "cell_type": "code",
      "execution_count": null,
      "metadata": {
        "id": "R75uefZuP75V"
      },
      "outputs": [],
      "source": [
        "def plot_calibration_curve(y_test, preds, classifier_name):\n",
        "    bin_middle_points = []\n",
        "    bin_real_ratios = []\n",
        "    n_bins = 10\n",
        "\n",
        "    for i in range(n_bins):\n",
        "        l = 1.0 / n_bins * i\n",
        "        r = 1.0 / n_bins * (i + 1)\n",
        "        bin_middle_points.append((l + r) / 2)\n",
        "        bin_real_ratios.append(np.sum(y_test[(preds >= l) & (preds < r)] == 1) / len(y_test[(preds >= l) & (preds < r)]))\n",
        "\n",
        "    plt.figure(figsize=(6,6))\n",
        "    plt.plot([0, 1], [0, 1], linestyle = '--', color = 'k', label = 'Perfectly Calibrated')\n",
        "    plt.plot(bin_middle_points, bin_real_ratios, linestyle = '-.', color = 'blue', label = classifier_name)\n",
        "    plt.legend()\n",
        "    plt.title(\"Calibration Curve\")\n",
        "    plt.ylim([-0.05, 1.05])\n",
        "    plt.grid()\n",
        "    plt.show()"
      ]
    },
    {
      "cell_type": "markdown",
      "metadata": {
        "id": "R13YCkxMO_R4"
      },
      "source": [
        "Сгенерируем синтетические данные, построим калибровочные кривые на тестовой части для логистической регрессии и метода опорных векторов.\n",
        "\n",
        "Отрисуем калибровочную кривую идеально откалиброванной модели (диагональ)\n",
        "\n",
        "Для получения вероятностей из метода опорных векторов воспользуемся формулой:\n",
        "\n",
        "$$probas = \\frac{preds - min(preds)}{max(preds) - min(preds)}$$\n",
        "\n",
        "где $preds$ - результат работы метода decision_function"
      ]
    },
    {
      "cell_type": "code",
      "source": [
        "X_test, y_test = make_classification(n_samples = 10000, n_features = 2, n_informative = 2, n_redundant = 0, random_state = 42)"
      ],
      "metadata": {
        "id": "W0nsLQXjWy5q"
      },
      "execution_count": null,
      "outputs": []
    },
    {
      "cell_type": "code",
      "execution_count": null,
      "metadata": {
        "id": "Jk6pz90lQYST",
        "colab": {
          "base_uri": "https://localhost:8080/",
          "height": 566
        },
        "outputId": "01030b73-d53a-455a-a65b-74eef8ffc7d6"
      },
      "outputs": [
        {
          "output_type": "display_data",
          "data": {
            "text/plain": [
              "<Figure size 600x600 with 1 Axes>"
            ],
            "image/png": "[encoded data removed]"
          },
          "metadata": {}
        }
      ],
      "source": [
        "preds_svc = model_svc.decision_function(X_test)\n",
        "probas_svc = (preds_svc - min(preds_svc)) / (max(preds_svc) - min(preds_svc))\n",
        "plot_calibration_curve(y_test, probas_svc, \"SVC\")"
      ]
    },
    {
      "cell_type": "code",
      "source": [
        "probas_reg = model_reg.predict_proba(X_test)[:, 1]\n",
        "plot_calibration_curve(y_test, probas_reg, \"LogReg\")"
      ],
      "metadata": {
        "colab": {
          "base_uri": "https://localhost:8080/",
          "height": 566
        },
        "id": "f738P14VNUcm",
        "outputId": "694ada74-c3b7-4087-ec7f-97da6628ea59"
      },
      "execution_count": null,
      "outputs": [
        {
          "output_type": "display_data",
          "data": {
            "text/plain": [
              "<Figure size 600x600 with 1 Axes>"
            ],
            "image/png": "[encoded data removed]"
          },
          "metadata": {}
        }
      ]
    },
    {
      "cell_type": "markdown",
      "metadata": {
        "id": "t15IAX7GPJjF"
      },
      "source": [
        "__Вывод__:\n",
        "\n",
        "Логистическая регрессия откалибрована сильно лучше, чем SVМ. Логистическая регрессия близка к идеальному классификатору"
      ]
    },
    {
      "cell_type": "markdown",
      "metadata": {
        "id": "cgANQZyhPHIX"
      },
      "source": [
        "Изучим распределение ответов классификаторов."
      ]
    },
    {
      "cell_type": "code",
      "source": [
        "bin_middle_points = []\n",
        "bin_real_ratios_svc, bin_real_ratios_reg = [], []\n",
        "n_bins = 10\n",
        "\n",
        "for i in range(n_bins):\n",
        "    l = 1.0 / n_bins * i\n",
        "    r = 1.0 / n_bins * (i + 1)\n",
        "    bin_middle_points.append(round((l + r) / 2, 2))\n",
        "    bin_real_ratios_svc.append(np.sum(y_test[(probas_svc >= l) & (probas_svc < r)] == 1))\n",
        "    bin_real_ratios_reg.append(np.sum(y_test[(probas_reg >= l) & (probas_reg < r)] == 1))\n",
        "\n",
        "plt.figure(figsize=(6,6))\n",
        "plt.bar(bin_middle_points, bin_real_ratios_svc, width = 0.1, color = 'green', alpha = 0.6, label = 'SVC')\n",
        "plt.bar(bin_middle_points, bin_real_ratios_reg, width = 0.1, color = 'blue', alpha = 0.6, label = 'LogReg')\n",
        "plt.legend(title = 'Distribution')\n",
        "plt.grid()\n",
        "plt.show()"
      ],
      "metadata": {
        "colab": {
          "base_uri": "https://localhost:8080/",
          "height": 543
        },
        "id": "8sTD6n4Rbk_r",
        "outputId": "5eb549f7-0276-43ec-f0ca-3cf24e64805e"
      },
      "execution_count": null,
      "outputs": [
        {
          "output_type": "display_data",
          "data": {
            "text/plain": [
              "<Figure size 600x600 with 1 Axes>"
            ],
            "image/png": "[encoded data removed]"
          },
          "metadata": {}
        }
      ]
    },
    {
      "cell_type": "markdown",
      "metadata": {
        "id": "LOmrLYqdPP_0"
      },
      "source": [
        "Такое распределение связано с тем, что логистическая регрессия за счет своей лосс функция максимизирует свою уверенность в предсказаниях. С другой стороны, SVC не обязана быть хорошо откалибрована, поскольку она заточена под то, чтобы строить разделяющую поверхность, затем только к выходам модели применяется нормализация, чтобы это было лишь похоже на вероятности"
      ]
    },
    {
      "cell_type": "markdown",
      "metadata": {
        "id": "M9-6ClfaP75W"
      },
      "source": [
        "Воспользуемся `CalibratedClassifierCV` из `sklearn` для калибровки вероятностей метода опорных векторов на обучении и построим с его помощью  предсказания для тестовой выборки."
      ]
    },
    {
      "cell_type": "code",
      "execution_count": null,
      "metadata": {
        "id": "RR3pVlSNP75W"
      },
      "outputs": [],
      "source": [
        "from sklearn.calibration import CalibratedClassifierCV"
      ]
    },
    {
      "cell_type": "code",
      "source": [
        "model = SVC(kernel = 'linear')\n",
        "svc_calibr = CalibratedClassifierCV(model, cv = 5)\n",
        "svc_calibr.fit(X_train, y_train);"
      ],
      "metadata": {
        "id": "eDfcK74BgYmR"
      },
      "execution_count": null,
      "outputs": []
    },
    {
      "cell_type": "code",
      "source": [
        "probas_svc_calibr = svc_calibr.predict_proba(X_test)[:, 1]\n",
        "plot_calibration_curve(y_test, probas_svc_calibr, \"SVC CalibrationClassifier\")"
      ],
      "metadata": {
        "colab": {
          "base_uri": "https://localhost:8080/",
          "height": 566
        },
        "id": "GaCEar6uhZDW",
        "outputId": "af7dff18-91fd-4d18-84cf-2b9ebb2a0ad3"
      },
      "execution_count": null,
      "outputs": [
        {
          "output_type": "display_data",
          "data": {
            "text/plain": [
              "<Figure size 600x600 with 1 Axes>"
            ],
            "image/png": "[encoded data removed]"
          },
          "metadata": {}
        }
      ]
    },
    {
      "cell_type": "markdown",
      "metadata": {
        "id": "PnwOFuW6XyPc"
      },
      "source": [
        "Видим значительное улучшение калибровочной кривой."
      ]
    },
    {
      "cell_type": "code",
      "source": [
        "bin_middle_points = []\n",
        "bin_real_ratios_svc, bin_real_ratios_reg = [], []\n",
        "n_bins = 10\n",
        "\n",
        "for i in range(n_bins):\n",
        "    l = 1.0 / n_bins * i\n",
        "    r = 1.0 / n_bins * (i + 1)\n",
        "    bin_middle_points.append(round((l + r) / 2, 2))\n",
        "    bin_real_ratios_svc.append(np.sum(y_test[(probas_svc_calibr >= l) & (probas_svc_calibr < r)] == 1))\n",
        "    bin_real_ratios_reg.append(np.sum(y_test[(probas_reg >= l) & (probas_reg < r)] == 1))\n",
        "\n",
        "plt.figure(figsize=(6,6))\n",
        "plt.bar(bin_middle_points, bin_real_ratios_svc, width = 0.1, color = 'green', alpha = 1, label = 'SVC')\n",
        "plt.bar(bin_middle_points, bin_real_ratios_reg, width = 0.1, color = 'blue', alpha = 0.4, label = 'LogReg')\n",
        "plt.legend(title = 'Distribution')\n",
        "plt.grid()\n",
        "plt.show()"
      ],
      "metadata": {
        "colab": {
          "base_uri": "https://localhost:8080/",
          "height": 543
        },
        "id": "H317LxFzlZA7",
        "outputId": "1d1b5930-2580-4966-beb9-c325268c3e5b"
      },
      "execution_count": null,
      "outputs": [
        {
          "output_type": "display_data",
          "data": {
            "text/plain": [
              "<Figure size 600x600 with 1 Axes>"
            ],
            "image/png": "[encoded data removed]"
          },
          "metadata": {}
        }
      ]
    },
    {
      "cell_type": "markdown",
      "source": [
        "Реализуем собственную функцию калибровки вероятностей.\n",
        "\n",
        "Воспользуемся калибровкой `Platt` для SVC."
      ],
      "metadata": {
        "id": "-cfoOfuPrpFT"
      }
    },
    {
      "cell_type": "code",
      "execution_count": null,
      "metadata": {
        "id": "R8mtQgBJP75X",
        "colab": {
          "base_uri": "https://localhost:8080/",
          "height": 566
        },
        "outputId": "2351d47b-0fe7-4b21-9123-5ff3976435ae"
      },
      "outputs": [
        {
          "output_type": "display_data",
          "data": {
            "text/plain": [
              "<Figure size 600x600 with 1 Axes>"
            ],
            "image/png": "[encoded data removed]"
          },
          "metadata": {}
        }
      ],
      "source": [
        "Platt = 1 / (1 + np.exp(-(model_svc.coef_ @ X_test.T + model_svc.intercept_[:,None])))\n",
        "plot_calibration_curve(y_test, Platt.squeeze(), \"SVC with Platt\")"
      ]
    },
    {
      "cell_type": "markdown",
      "source": [
        "Заметим, что мы получили практически то же самое, что и `CalibratedClassifierCV`, что неудивительно, поскольку по дефолту в `CalibratedClassifierCV` используется `sigmoid method` для калибровки, а это и есть `Platt`.  \n",
        "Небольшое отличие все же есть, это связано с тем, что в `CalibratedClassifierCV` используется кросс-валидация"
      ],
      "metadata": {
        "id": "T031IKoUr_Xb"
      }
    },
    {
      "cell_type": "markdown",
      "source": [
        "## Работа с текстами"
      ],
      "metadata": {
        "id": "gbkxZx-37CSY"
      }
    },
    {
      "cell_type": "markdown",
      "source": [
        "Будем строить классификатор текстов."
      ],
      "metadata": {
        "id": "SH6cbdwe7NFi"
      }
    },
    {
      "cell_type": "markdown",
      "source": [
        "Мы будем работать с датасетом постов из твиттера. Нам предстоит решать задачу бинарной классификации - определять содержатся ли в твитте информация о настоящей катастрофе/инциденте или нет."
      ],
      "metadata": {
        "id": "_scEG04B7eGV"
      }
    },
    {
      "cell_type": "code",
      "source": [
        "import numpy as np\n",
        "import pandas as pd\n",
        "from typing import  List\n",
        "import matplotlib.pyplot as plt\n",
        "import seaborn as sns\n",
        "from string import punctuation"
      ],
      "metadata": {
        "id": "QyUmyJAI7ilQ"
      },
      "execution_count": null,
      "outputs": []
    },
    {
      "cell_type": "code",
      "source": [
        "data = pd.read_csv('train.csv').drop(['id'], axis = 1)\n",
        "data.head()"
      ],
      "metadata": {
        "id": "0_PsaqkJ7kDv",
        "colab": {
          "base_uri": "https://localhost:8080/",
          "height": 221
        },
        "outputId": "f94ab4d6-afaa-4af6-9419-08294ae91f2b"
      },
      "execution_count": null,
      "outputs": [
        {
          "output_type": "execute_result",
          "data": {
            "text/plain": [
              "  keyword location                                               text  target\n",
              "0     NaN      NaN  Our Deeds are the Reason of this #earthquake M...       1\n",
              "1     NaN      NaN             Forest fire near La Ronge Sask. Canada       1\n",
              "2     NaN      NaN  All residents asked to 'shelter in place' are ...       1\n",
              "3     NaN      NaN  13,000 people receive #wildfires evacuation or...       1\n",
              "4     NaN      NaN  Just got sent this photo from Ruby #Alaska as ...       1"
            ],
            "text/html": [
              "\n",
              "  <div id=\"df-8f9aa356-d5e6-4d21-a5bc-5f47fbacdbae\" class=\"colab-df-container\">\n",
              "    <div>\n",
              "<style scoped>\n",
              "    .dataframe tbody tr th:only-of-type {\n",
              "        vertical-align: middle;\n",
              "    }\n",
              "\n",
              "    .dataframe tbody tr th {\n",
              "        vertical-align: top;\n",
              "    }\n",
              "\n",
              "    .dataframe thead th {\n",
              "        text-align: right;\n",
              "    }\n",
              "</style>\n",
              "<table border=\"1\" class=\"dataframe\">\n",
              "  <thead>\n",
              "    <tr style=\"text-align: right;\">\n",
              "      <th></th>\n",
              "      <th>keyword</th>\n",
              "      <th>location</th>\n",
              "      <th>text</th>\n",
              "      <th>target</th>\n",
              "    </tr>\n",
              "  </thead>\n",
              "  <tbody>\n",
              "    <tr>\n",
              "      <th>0</th>\n",
              "      <td>NaN</td>\n",
              "      <td>NaN</td>\n",
              "      <td>Our Deeds are the Reason of this #earthquake M...</td>\n",
              "      <td>1</td>\n",
              "    </tr>\n",
              "    <tr>\n",
              "      <th>1</th>\n",
              "      <td>NaN</td>\n",
              "      <td>NaN</td>\n",
              "      <td>Forest fire near La Ronge Sask. Canada</td>\n",
              "      <td>1</td>\n",
              "    </tr>\n",
              "    <tr>\n",
              "      <th>2</th>\n",
              "      <td>NaN</td>\n",
              "      <td>NaN</td>\n",
              "      <td>All residents asked to 'shelter in place' are ...</td>\n",
              "      <td>1</td>\n",
              "    </tr>\n",
              "    <tr>\n",
              "      <th>3</th>\n",
              "      <td>NaN</td>\n",
              "      <td>NaN</td>\n",
              "      <td>13,000 people receive #wildfires evacuation or...</td>\n",
              "      <td>1</td>\n",
              "    </tr>\n",
              "    <tr>\n",
              "      <th>4</th>\n",
              "      <td>NaN</td>\n",
              "      <td>NaN</td>\n",
              "      <td>Just got sent this photo from Ruby #Alaska as ...</td>\n",
              "      <td>1</td>\n",
              "    </tr>\n",
              "  </tbody>\n",
              "</table>\n",
              "</div>\n",
              "    <div class=\"colab-df-buttons\">\n",
              "\n",
              "  <div class=\"colab-df-container\">\n",
              "    <button class=\"colab-df-convert\" onclick=\"convertToInteractive('df-8f9aa356-d5e6-4d21-a5bc-5f47fbacdbae')\"\n",
              "            title=\"Convert this dataframe to an interactive table.\"\n",
              "            style=\"display:none;\">\n",
              "\n",
              "  <svg xmlns=\"http://www.w3.org/2000/svg\" height=\"24px\" viewBox=\"0 -960 960 960\">\n",
              "    <path d=\"M120-120v-720h720v720H120Zm60-500h600v-160H180v160Zm220 220h160v-160H400v160Zm0 220h160v-160H400v160ZM180-400h160v-160H180v160Zm440 0h160v-160H620v160ZM180-180h160v-160H180v160Zm440 0h160v-160H620v160Z\"/>\n",
              "  </svg>\n",
              "    </button>\n",
              "\n",
              "  <style>\n",
              "    .colab-df-container {\n",
              "      display:flex;\n",
              "      gap: 12px;\n",
              "    }\n",
              "\n",
              "    .colab-df-convert {\n",
              "      background-color: #E8F0FE;\n",
              "      border: none;\n",
              "      border-radius: 50%;\n",
              "      cursor: pointer;\n",
              "      display: none;\n",
              "      fill: #1967D2;\n",
              "      height: 32px;\n",
              "      padding: 0 0 0 0;\n",
              "      width: 32px;\n",
              "    }\n",
              "\n",
              "    .colab-df-convert:hover {\n",
              "      background-color: #E2EBFA;\n",
              "      box-shadow: 0px 1px 2px rgba(60, 64, 67, 0.3), 0px 1px 3px 1px rgba(60, 64, 67, 0.15);\n",
              "      fill: #174EA6;\n",
              "    }\n",
              "\n",
              "    .colab-df-buttons div {\n",
              "      margin-bottom: 4px;\n",
              "    }\n",
              "\n",
              "    [theme=dark] .colab-df-convert {\n",
              "      background-color: #3B4455;\n",
              "      fill: #D2E3FC;\n",
              "    }\n",
              "\n",
              "    [theme=dark] .colab-df-convert:hover {\n",
              "      background-color: #434B5C;\n",
              "      box-shadow: 0px 1px 3px 1px rgba(0, 0, 0, 0.15);\n",
              "      filter: drop-shadow(0px 1px 2px rgba(0, 0, 0, 0.3));\n",
              "      fill: #FFFFFF;\n",
              "    }\n",
              "  </style>\n",
              "\n",
              "    <script>\n",
              "      const buttonEl =\n",
              "        document.querySelector('#df-8f9aa356-d5e6-4d21-a5bc-5f47fbacdbae button.colab-df-convert');\n",
              "      buttonEl.style.display =\n",
              "        google.colab.kernel.accessAllowed ? 'block' : 'none';\n",
              "\n",
              "      async function convertToInteractive(key) {\n",
              "        const element = document.querySelector('#df-8f9aa356-d5e6-4d21-a5bc-5f47fbacdbae');\n",
              "        const dataTable =\n",
              "          await google.colab.kernel.invokeFunction('convertToInteractive',\n",
              "                                                    [key], {});\n",
              "        if (!dataTable) return;\n",
              "\n",
              "        const docLinkHtml = 'Like what you see? Visit the ' +\n",
              "          '<a target=\"_blank\" href=https://colab.research.google.com/notebooks/data_table.ipynb>data table notebook</a>'\n",
              "          + ' to learn more about interactive tables.';\n",
              "        element.innerHTML = '';\n",
              "        dataTable['output_type'] = 'display_data';\n",
              "        await google.colab.output.renderOutput(dataTable, element);\n",
              "        const docLink = document.createElement('div');\n",
              "        docLink.innerHTML = docLinkHtml;\n",
              "        element.appendChild(docLink);\n",
              "      }\n",
              "    </script>\n",
              "  </div>\n",
              "\n",
              "\n",
              "<div id=\"df-b7ee6231-db46-4681-875d-bc4284742f6d\">\n",
              "  <button class=\"colab-df-quickchart\" onclick=\"quickchart('df-b7ee6231-db46-4681-875d-bc4284742f6d')\"\n",
              "            title=\"Suggest charts\"\n",
              "            style=\"display:none;\">\n",
              "\n",
              "<svg xmlns=\"http://www.w3.org/2000/svg\" height=\"24px\"viewBox=\"0 0 24 24\"\n",
              "     width=\"24px\">\n",
              "    <g>\n",
              "        <path d=\"M19 3H5c-1.1 0-2 .9-2 2v14c0 1.1.9 2 2 2h14c1.1 0 2-.9 2-2V5c0-1.1-.9-2-2-2zM9 17H7v-7h2v7zm4 0h-2V7h2v10zm4 0h-2v-4h2v4z\"/>\n",
              "    </g>\n",
              "</svg>\n",
              "  </button>\n",
              "\n",
              "<style>\n",
              "  .colab-df-quickchart {\n",
              "      --bg-color: #E8F0FE;\n",
              "      --fill-color: #1967D2;\n",
              "      --hover-bg-color: #E2EBFA;\n",
              "      --hover-fill-color: #174EA6;\n",
              "      --disabled-fill-color: #AAA;\n",
              "      --disabled-bg-color: #DDD;\n",
              "  }\n",
              "\n",
              "  [theme=dark] .colab-df-quickchart {\n",
              "      --bg-color: #3B4455;\n",
              "      --fill-color: #D2E3FC;\n",
              "      --hover-bg-color: #434B5C;\n",
              "      --hover-fill-color: #FFFFFF;\n",
              "      --disabled-bg-color: #3B4455;\n",
              "      --disabled-fill-color: #666;\n",
              "  }\n",
              "\n",
              "  .colab-df-quickchart {\n",
              "    background-color: var(--bg-color);\n",
              "    border: none;\n",
              "    border-radius: 50%;\n",
              "    cursor: pointer;\n",
              "    display: none;\n",
              "    fill: var(--fill-color);\n",
              "    height: 32px;\n",
              "    padding: 0;\n",
              "    width: 32px;\n",
              "  }\n",
              "\n",
              "  .colab-df-quickchart:hover {\n",
              "    background-color: var(--hover-bg-color);\n",
              "    box-shadow: 0 1px 2px rgba(60, 64, 67, 0.3), 0 1px 3px 1px rgba(60, 64, 67, 0.15);\n",
              "    fill: var(--button-hover-fill-color);\n",
              "  }\n",
              "\n",
              "  .colab-df-quickchart-complete:disabled,\n",
              "  .colab-df-quickchart-complete:disabled:hover {\n",
              "    background-color: var(--disabled-bg-color);\n",
              "    fill: var(--disabled-fill-color);\n",
              "    box-shadow: none;\n",
              "  }\n",
              "\n",
              "  .colab-df-spinner {\n",
              "    border: 2px solid var(--fill-color);\n",
              "    border-color: transparent;\n",
              "    border-bottom-color: var(--fill-color);\n",
              "    animation:\n",
              "      spin 1s steps(1) infinite;\n",
              "  }\n",
              "\n",
              "  @keyframes spin {\n",
              "    0% {\n",
              "      border-color: transparent;\n",
              "      border-bottom-color: var(--fill-color);\n",
              "      border-left-color: var(--fill-color);\n",
              "    }\n",
              "    20% {\n",
              "      border-color: transparent;\n",
              "      border-left-color: var(--fill-color);\n",
              "      border-top-color: var(--fill-color);\n",
              "    }\n",
              "    30% {\n",
              "      border-color: transparent;\n",
              "      border-left-color: var(--fill-color);\n",
              "      border-top-color: var(--fill-color);\n",
              "      border-right-color: var(--fill-color);\n",
              "    }\n",
              "    40% {\n",
              "      border-color: transparent;\n",
              "      border-right-color: var(--fill-color);\n",
              "      border-top-color: var(--fill-color);\n",
              "    }\n",
              "    60% {\n",
              "      border-color: transparent;\n",
              "      border-right-color: var(--fill-color);\n",
              "    }\n",
              "    80% {\n",
              "      border-color: transparent;\n",
              "      border-right-color: var(--fill-color);\n",
              "      border-bottom-color: var(--fill-color);\n",
              "    }\n",
              "    90% {\n",
              "      border-color: transparent;\n",
              "      border-bottom-color: var(--fill-color);\n",
              "    }\n",
              "  }\n",
              "</style>\n",
              "\n",
              "  <script>\n",
              "    async function quickchart(key) {\n",
              "      const quickchartButtonEl =\n",
              "        document.querySelector('#' + key + ' button');\n",
              "      quickchartButtonEl.disabled = true;  // To prevent multiple clicks.\n",
              "      quickchartButtonEl.classList.add('colab-df-spinner');\n",
              "      try {\n",
              "        const charts = await google.colab.kernel.invokeFunction(\n",
              "            'suggestCharts', [key], {});\n",
              "      } catch (error) {\n",
              "        console.error('Error during call to suggestCharts:', error);\n",
              "      }\n",
              "      quickchartButtonEl.classList.remove('colab-df-spinner');\n",
              "      quickchartButtonEl.classList.add('colab-df-quickchart-complete');\n",
              "    }\n",
              "    (() => {\n",
              "      let quickchartButtonEl =\n",
              "        document.querySelector('#df-b7ee6231-db46-4681-875d-bc4284742f6d button');\n",
              "      quickchartButtonEl.style.display =\n",
              "        google.colab.kernel.accessAllowed ? 'block' : 'none';\n",
              "    })();\n",
              "  </script>\n",
              "</div>\n",
              "    </div>\n",
              "  </div>\n"
            ],
            "application/vnd.google.colaboratory.intrinsic+json": {
              "type": "dataframe",
              "variable_name": "data",
              "summary": "{\n  \"name\": \"data\",\n  \"rows\": 7613,\n  \"fields\": [\n    {\n      \"column\": \"keyword\",\n      \"properties\": {\n        \"dtype\": \"category\",\n        \"num_unique_values\": 221,\n        \"samples\": [\n          \"injury\",\n          \"nuclear%20reactor\",\n          \"engulfed\"\n        ],\n        \"semantic_type\": \"\",\n        \"description\": \"\"\n      }\n    },\n    {\n      \"column\": \"location\",\n      \"properties\": {\n        \"dtype\": \"category\",\n        \"num_unique_values\": 3341,\n        \"samples\": [\n          \"Oklahoma\",\n          \"Starling City\",\n          \"Trinidad and Tobago\"\n        ],\n        \"semantic_type\": \"\",\n        \"description\": \"\"\n      }\n    },\n    {\n      \"column\": \"text\",\n      \"properties\": {\n        \"dtype\": \"string\",\n        \"num_unique_values\": 7503,\n        \"samples\": [\n          \"Three Homes Demolished in Unrecognized Arab Village - International Middle East Media Center http://t.co/ik8m4Yi9T4\",\n          \"Reid Lake fire prompts campground evacuation order http://t.co/jBODKM6rBU\",\n          \"FAAN orders evacuation of abandoned aircraft at MMA http://t.co/dEvYbnVXGQ via @todayng\"\n        ],\n        \"semantic_type\": \"\",\n        \"description\": \"\"\n      }\n    },\n    {\n      \"column\": \"target\",\n      \"properties\": {\n        \"dtype\": \"number\",\n        \"std\": 0,\n        \"min\": 0,\n        \"max\": 1,\n        \"num_unique_values\": 2,\n        \"samples\": [\n          0,\n          1\n        ],\n        \"semantic_type\": \"\",\n        \"description\": \"\"\n      }\n    }\n  ]\n}"
            }
          },
          "metadata": {},
          "execution_count": 37
        }
      ]
    },
    {
      "cell_type": "markdown",
      "source": [
        "#### Разведочный анализ и предобработка данных"
      ],
      "metadata": {
        "id": "YBvGBKIPkpzJ"
      }
    },
    {
      "cell_type": "markdown",
      "source": [
        "Выведем информацию о пропусках в данных. Если пропуски присутствуют, заполним их пустой строкой."
      ],
      "metadata": {
        "id": "vTYC8s1ukxQo"
      }
    },
    {
      "cell_type": "code",
      "source": [
        "data.isnull().sum()"
      ],
      "metadata": {
        "id": "WmRkayaCkw7d",
        "colab": {
          "base_uri": "https://localhost:8080/"
        },
        "outputId": "210679f4-648c-490e-975b-42578be91a7d"
      },
      "execution_count": null,
      "outputs": [
        {
          "output_type": "execute_result",
          "data": {
            "text/plain": [
              "keyword       61\n",
              "location    2533\n",
              "text           0\n",
              "target         0\n",
              "dtype: int64"
            ]
          },
          "metadata": {},
          "execution_count": 38
        }
      ]
    },
    {
      "cell_type": "markdown",
      "source": [
        "Пропуски есть, заполним их"
      ],
      "metadata": {
        "id": "GAkPDwe_UWUl"
      }
    },
    {
      "cell_type": "code",
      "source": [
        "data.fillna('', inplace = True)\n",
        "data.head()"
      ],
      "metadata": {
        "colab": {
          "base_uri": "https://localhost:8080/",
          "height": 221
        },
        "id": "UMlsPlSQUY21",
        "outputId": "2e99b5c3-7887-43cb-9350-1de7ed3c5b45"
      },
      "execution_count": null,
      "outputs": [
        {
          "output_type": "execute_result",
          "data": {
            "text/plain": [
              "  keyword location                                               text  target\n",
              "0                   Our Deeds are the Reason of this #earthquake M...       1\n",
              "1                              Forest fire near La Ronge Sask. Canada       1\n",
              "2                   All residents asked to 'shelter in place' are ...       1\n",
              "3                   13,000 people receive #wildfires evacuation or...       1\n",
              "4                   Just got sent this photo from Ruby #Alaska as ...       1"
            ],
            "text/html": [
              "\n",
              "  <div id=\"df-2183dbfe-78ba-43f1-935d-d4f586ffce95\" class=\"colab-df-container\">\n",
              "    <div>\n",
              "<style scoped>\n",
              "    .dataframe tbody tr th:only-of-type {\n",
              "        vertical-align: middle;\n",
              "    }\n",
              "\n",
              "    .dataframe tbody tr th {\n",
              "        vertical-align: top;\n",
              "    }\n",
              "\n",
              "    .dataframe thead th {\n",
              "        text-align: right;\n",
              "    }\n",
              "</style>\n",
              "<table border=\"1\" class=\"dataframe\">\n",
              "  <thead>\n",
              "    <tr style=\"text-align: right;\">\n",
              "      <th></th>\n",
              "      <th>keyword</th>\n",
              "      <th>location</th>\n",
              "      <th>text</th>\n",
              "      <th>target</th>\n",
              "    </tr>\n",
              "  </thead>\n",
              "  <tbody>\n",
              "    <tr>\n",
              "      <th>0</th>\n",
              "      <td></td>\n",
              "      <td></td>\n",
              "      <td>Our Deeds are the Reason of this #earthquake M...</td>\n",
              "      <td>1</td>\n",
              "    </tr>\n",
              "    <tr>\n",
              "      <th>1</th>\n",
              "      <td></td>\n",
              "      <td></td>\n",
              "      <td>Forest fire near La Ronge Sask. Canada</td>\n",
              "      <td>1</td>\n",
              "    </tr>\n",
              "    <tr>\n",
              "      <th>2</th>\n",
              "      <td></td>\n",
              "      <td></td>\n",
              "      <td>All residents asked to 'shelter in place' are ...</td>\n",
              "      <td>1</td>\n",
              "    </tr>\n",
              "    <tr>\n",
              "      <th>3</th>\n",
              "      <td></td>\n",
              "      <td></td>\n",
              "      <td>13,000 people receive #wildfires evacuation or...</td>\n",
              "      <td>1</td>\n",
              "    </tr>\n",
              "    <tr>\n",
              "      <th>4</th>\n",
              "      <td></td>\n",
              "      <td></td>\n",
              "      <td>Just got sent this photo from Ruby #Alaska as ...</td>\n",
              "      <td>1</td>\n",
              "    </tr>\n",
              "  </tbody>\n",
              "</table>\n",
              "</div>\n",
              "    <div class=\"colab-df-buttons\">\n",
              "\n",
              "  <div class=\"colab-df-container\">\n",
              "    <button class=\"colab-df-convert\" onclick=\"convertToInteractive('df-2183dbfe-78ba-43f1-935d-d4f586ffce95')\"\n",
              "            title=\"Convert this dataframe to an interactive table.\"\n",
              "            style=\"display:none;\">\n",
              "\n",
              "  <svg xmlns=\"http://www.w3.org/2000/svg\" height=\"24px\" viewBox=\"0 -960 960 960\">\n",
              "    <path d=\"M120-120v-720h720v720H120Zm60-500h600v-160H180v160Zm220 220h160v-160H400v160Zm0 220h160v-160H400v160ZM180-400h160v-160H180v160Zm440 0h160v-160H620v160ZM180-180h160v-160H180v160Zm440 0h160v-160H620v160Z\"/>\n",
              "  </svg>\n",
              "    </button>\n",
              "\n",
              "  <style>\n",
              "    .colab-df-container {\n",
              "      display:flex;\n",
              "      gap: 12px;\n",
              "    }\n",
              "\n",
              "    .colab-df-convert {\n",
              "      background-color: #E8F0FE;\n",
              "      border: none;\n",
              "      border-radius: 50%;\n",
              "      cursor: pointer;\n",
              "      display: none;\n",
              "      fill: #1967D2;\n",
              "      height: 32px;\n",
              "      padding: 0 0 0 0;\n",
              "      width: 32px;\n",
              "    }\n",
              "\n",
              "    .colab-df-convert:hover {\n",
              "      background-color: #E2EBFA;\n",
              "      box-shadow: 0px 1px 2px rgba(60, 64, 67, 0.3), 0px 1px 3px 1px rgba(60, 64, 67, 0.15);\n",
              "      fill: #174EA6;\n",
              "    }\n",
              "\n",
              "    .colab-df-buttons div {\n",
              "      margin-bottom: 4px;\n",
              "    }\n",
              "\n",
              "    [theme=dark] .colab-df-convert {\n",
              "      background-color: #3B4455;\n",
              "      fill: #D2E3FC;\n",
              "    }\n",
              "\n",
              "    [theme=dark] .colab-df-convert:hover {\n",
              "      background-color: #434B5C;\n",
              "      box-shadow: 0px 1px 3px 1px rgba(0, 0, 0, 0.15);\n",
              "      filter: drop-shadow(0px 1px 2px rgba(0, 0, 0, 0.3));\n",
              "      fill: #FFFFFF;\n",
              "    }\n",
              "  </style>\n",
              "\n",
              "    <script>\n",
              "      const buttonEl =\n",
              "        document.querySelector('#df-2183dbfe-78ba-43f1-935d-d4f586ffce95 button.colab-df-convert');\n",
              "      buttonEl.style.display =\n",
              "        google.colab.kernel.accessAllowed ? 'block' : 'none';\n",
              "\n",
              "      async function convertToInteractive(key) {\n",
              "        const element = document.querySelector('#df-2183dbfe-78ba-43f1-935d-d4f586ffce95');\n",
              "        const dataTable =\n",
              "          await google.colab.kernel.invokeFunction('convertToInteractive',\n",
              "                                                    [key], {});\n",
              "        if (!dataTable) return;\n",
              "\n",
              "        const docLinkHtml = 'Like what you see? Visit the ' +\n",
              "          '<a target=\"_blank\" href=https://colab.research.google.com/notebooks/data_table.ipynb>data table notebook</a>'\n",
              "          + ' to learn more about interactive tables.';\n",
              "        element.innerHTML = '';\n",
              "        dataTable['output_type'] = 'display_data';\n",
              "        await google.colab.output.renderOutput(dataTable, element);\n",
              "        const docLink = document.createElement('div');\n",
              "        docLink.innerHTML = docLinkHtml;\n",
              "        element.appendChild(docLink);\n",
              "      }\n",
              "    </script>\n",
              "  </div>\n",
              "\n",
              "\n",
              "<div id=\"df-bb0ab106-f205-4e5a-a0ff-ac12e4f42047\">\n",
              "  <button class=\"colab-df-quickchart\" onclick=\"quickchart('df-bb0ab106-f205-4e5a-a0ff-ac12e4f42047')\"\n",
              "            title=\"Suggest charts\"\n",
              "            style=\"display:none;\">\n",
              "\n",
              "<svg xmlns=\"http://www.w3.org/2000/svg\" height=\"24px\"viewBox=\"0 0 24 24\"\n",
              "     width=\"24px\">\n",
              "    <g>\n",
              "        <path d=\"M19 3H5c-1.1 0-2 .9-2 2v14c0 1.1.9 2 2 2h14c1.1 0 2-.9 2-2V5c0-1.1-.9-2-2-2zM9 17H7v-7h2v7zm4 0h-2V7h2v10zm4 0h-2v-4h2v4z\"/>\n",
              "    </g>\n",
              "</svg>\n",
              "  </button>\n",
              "\n",
              "<style>\n",
              "  .colab-df-quickchart {\n",
              "      --bg-color: #E8F0FE;\n",
              "      --fill-color: #1967D2;\n",
              "      --hover-bg-color: #E2EBFA;\n",
              "      --hover-fill-color: #174EA6;\n",
              "      --disabled-fill-color: #AAA;\n",
              "      --disabled-bg-color: #DDD;\n",
              "  }\n",
              "\n",
              "  [theme=dark] .colab-df-quickchart {\n",
              "      --bg-color: #3B4455;\n",
              "      --fill-color: #D2E3FC;\n",
              "      --hover-bg-color: #434B5C;\n",
              "      --hover-fill-color: #FFFFFF;\n",
              "      --disabled-bg-color: #3B4455;\n",
              "      --disabled-fill-color: #666;\n",
              "  }\n",
              "\n",
              "  .colab-df-quickchart {\n",
              "    background-color: var(--bg-color);\n",
              "    border: none;\n",
              "    border-radius: 50%;\n",
              "    cursor: pointer;\n",
              "    display: none;\n",
              "    fill: var(--fill-color);\n",
              "    height: 32px;\n",
              "    padding: 0;\n",
              "    width: 32px;\n",
              "  }\n",
              "\n",
              "  .colab-df-quickchart:hover {\n",
              "    background-color: var(--hover-bg-color);\n",
              "    box-shadow: 0 1px 2px rgba(60, 64, 67, 0.3), 0 1px 3px 1px rgba(60, 64, 67, 0.15);\n",
              "    fill: var(--button-hover-fill-color);\n",
              "  }\n",
              "\n",
              "  .colab-df-quickchart-complete:disabled,\n",
              "  .colab-df-quickchart-complete:disabled:hover {\n",
              "    background-color: var(--disabled-bg-color);\n",
              "    fill: var(--disabled-fill-color);\n",
              "    box-shadow: none;\n",
              "  }\n",
              "\n",
              "  .colab-df-spinner {\n",
              "    border: 2px solid var(--fill-color);\n",
              "    border-color: transparent;\n",
              "    border-bottom-color: var(--fill-color);\n",
              "    animation:\n",
              "      spin 1s steps(1) infinite;\n",
              "  }\n",
              "\n",
              "  @keyframes spin {\n",
              "    0% {\n",
              "      border-color: transparent;\n",
              "      border-bottom-color: var(--fill-color);\n",
              "      border-left-color: var(--fill-color);\n",
              "    }\n",
              "    20% {\n",
              "      border-color: transparent;\n",
              "      border-left-color: var(--fill-color);\n",
              "      border-top-color: var(--fill-color);\n",
              "    }\n",
              "    30% {\n",
              "      border-color: transparent;\n",
              "      border-left-color: var(--fill-color);\n",
              "      border-top-color: var(--fill-color);\n",
              "      border-right-color: var(--fill-color);\n",
              "    }\n",
              "    40% {\n",
              "      border-color: transparent;\n",
              "      border-right-color: var(--fill-color);\n",
              "      border-top-color: var(--fill-color);\n",
              "    }\n",
              "    60% {\n",
              "      border-color: transparent;\n",
              "      border-right-color: var(--fill-color);\n",
              "    }\n",
              "    80% {\n",
              "      border-color: transparent;\n",
              "      border-right-color: var(--fill-color);\n",
              "      border-bottom-color: var(--fill-color);\n",
              "    }\n",
              "    90% {\n",
              "      border-color: transparent;\n",
              "      border-bottom-color: var(--fill-color);\n",
              "    }\n",
              "  }\n",
              "</style>\n",
              "\n",
              "  <script>\n",
              "    async function quickchart(key) {\n",
              "      const quickchartButtonEl =\n",
              "        document.querySelector('#' + key + ' button');\n",
              "      quickchartButtonEl.disabled = true;  // To prevent multiple clicks.\n",
              "      quickchartButtonEl.classList.add('colab-df-spinner');\n",
              "      try {\n",
              "        const charts = await google.colab.kernel.invokeFunction(\n",
              "            'suggestCharts', [key], {});\n",
              "      } catch (error) {\n",
              "        console.error('Error during call to suggestCharts:', error);\n",
              "      }\n",
              "      quickchartButtonEl.classList.remove('colab-df-spinner');\n",
              "      quickchartButtonEl.classList.add('colab-df-quickchart-complete');\n",
              "    }\n",
              "    (() => {\n",
              "      let quickchartButtonEl =\n",
              "        document.querySelector('#df-bb0ab106-f205-4e5a-a0ff-ac12e4f42047 button');\n",
              "      quickchartButtonEl.style.display =\n",
              "        google.colab.kernel.accessAllowed ? 'block' : 'none';\n",
              "    })();\n",
              "  </script>\n",
              "</div>\n",
              "    </div>\n",
              "  </div>\n"
            ],
            "application/vnd.google.colaboratory.intrinsic+json": {
              "type": "dataframe",
              "variable_name": "data",
              "summary": "{\n  \"name\": \"data\",\n  \"rows\": 7613,\n  \"fields\": [\n    {\n      \"column\": \"keyword\",\n      \"properties\": {\n        \"dtype\": \"category\",\n        \"num_unique_values\": 222,\n        \"samples\": [\n          \"outbreak\",\n          \"wildfire\",\n          \"avalanche\"\n        ],\n        \"semantic_type\": \"\",\n        \"description\": \"\"\n      }\n    },\n    {\n      \"column\": \"location\",\n      \"properties\": {\n        \"dtype\": \"category\",\n        \"num_unique_values\": 3342,\n        \"samples\": [\n          \"L/S/Z/L/T/H/C/H/R/A/S/C\",\n          \"Milton/Tallahassee\",\n          \"Jamaica\"\n        ],\n        \"semantic_type\": \"\",\n        \"description\": \"\"\n      }\n    },\n    {\n      \"column\": \"text\",\n      \"properties\": {\n        \"dtype\": \"string\",\n        \"num_unique_values\": 7503,\n        \"samples\": [\n          \"Three Homes Demolished in Unrecognized Arab Village - International Middle East Media Center http://t.co/ik8m4Yi9T4\",\n          \"Reid Lake fire prompts campground evacuation order http://t.co/jBODKM6rBU\",\n          \"FAAN orders evacuation of abandoned aircraft at MMA http://t.co/dEvYbnVXGQ via @todayng\"\n        ],\n        \"semantic_type\": \"\",\n        \"description\": \"\"\n      }\n    },\n    {\n      \"column\": \"target\",\n      \"properties\": {\n        \"dtype\": \"number\",\n        \"std\": 0,\n        \"min\": 0,\n        \"max\": 1,\n        \"num_unique_values\": 2,\n        \"samples\": [\n          0,\n          1\n        ],\n        \"semantic_type\": \"\",\n        \"description\": \"\"\n      }\n    }\n  ]\n}"
            }
          },
          "metadata": {},
          "execution_count": 39
        }
      ]
    },
    {
      "cell_type": "markdown",
      "source": [
        "Немного посмотрим на наши данные.\n"
      ],
      "metadata": {
        "id": "45fSrSEclEvp"
      }
    },
    {
      "cell_type": "markdown",
      "source": [
        "Посмотрим на колонку \"keyword\" - возьмем 10 наиболее встречающихся значений, построим диаграмму распределения классов в зависимости от значения keyword, сделаем выводы."
      ],
      "metadata": {
        "id": "VZFgPmQDlGW-"
      }
    },
    {
      "cell_type": "code",
      "source": [
        "popular_keywords = list(data['keyword'].value_counts().index)[1:11]\n",
        "popular_keywords"
      ],
      "metadata": {
        "colab": {
          "base_uri": "https://localhost:8080/"
        },
        "id": "DGpZMaFDa9nb",
        "outputId": "18c0dca4-0b87-43e7-e352-6c6a2cd67722"
      },
      "execution_count": null,
      "outputs": [
        {
          "output_type": "execute_result",
          "data": {
            "text/plain": [
              "['fatalities',\n",
              " 'deluge',\n",
              " 'armageddon',\n",
              " 'sinking',\n",
              " 'damage',\n",
              " 'harm',\n",
              " 'body%20bags',\n",
              " 'evacuate',\n",
              " 'fear',\n",
              " 'outbreak']"
            ]
          },
          "metadata": {},
          "execution_count": 40
        }
      ]
    },
    {
      "cell_type": "code",
      "source": [
        "count0 = [data[(data['keyword'] == popular_keywords[i]) & (data['target'] == 0)].shape[0] for i in range(10)]\n",
        "count1 = [data[(data['keyword'] == popular_keywords[i]) & (data['target'] == 1)].shape[0] for i in range(10)]\n",
        "fig, ax = plt.subplots(figsize = (20, 5))\n",
        "X_axis = np.arange(len(popular_keywords))\n",
        "\n",
        "ax.bar(X_axis-0.2, count0, width = 0.4, label = '0', color = 'blue')\n",
        "ax.bar(X_axis+0.2, count1, width = 0.4, label = '1', color = 'orange')\n",
        "ax.set_xticks(X_axis, popular_keywords)\n",
        "ax.set_xlabel('keyword')\n",
        "ax.set_ylabel('Count')\n",
        "plt.legend()\n",
        "\n",
        "plt.show()"
      ],
      "metadata": {
        "colab": {
          "base_uri": "https://localhost:8080/",
          "height": 326
        },
        "id": "Fa5MK-mlZzS4",
        "outputId": "58e343c2-b0a5-4349-c790-f2c764174324"
      },
      "execution_count": null,
      "outputs": [
        {
          "output_type": "display_data",
          "data": {
            "text/plain": [
              "<Figure size 2000x500 with 1 Axes>"
            ],
            "image/png": "[encoded data removed]"
          },
          "metadata": {}
        }
      ]
    },
    {
      "cell_type": "markdown",
      "source": [
        "Можем видеть сильно неравномерное распределение"
      ],
      "metadata": {
        "id": "rWERB7Xal-7I"
      }
    },
    {
      "cell_type": "markdown",
      "source": [
        "Уберем столбец с индексом и объединим все три текстовых столбца в один."
      ],
      "metadata": {
        "id": "PHtJsUh4mRzb"
      }
    },
    {
      "cell_type": "code",
      "source": [
        "import string\n",
        "import re"
      ],
      "metadata": {
        "id": "P6qYFn0QTVqn"
      },
      "execution_count": null,
      "outputs": []
    },
    {
      "cell_type": "code",
      "source": [
        "data['Word'] = data['keyword'] + ' ' + data['location'] + ' ' + data['text']\n",
        "X, y = data['Word'], data['target']\n",
        "data.head()"
      ],
      "metadata": {
        "colab": {
          "base_uri": "https://localhost:8080/",
          "height": 221
        },
        "id": "82IKgeeLAjD4",
        "outputId": "6f032085-839e-4205-a13b-46557e95aae7"
      },
      "execution_count": null,
      "outputs": [
        {
          "output_type": "execute_result",
          "data": {
            "text/plain": [
              "  keyword location                                               text  target  \\\n",
              "0                   Our Deeds are the Reason of this #earthquake M...       1   \n",
              "1                              Forest fire near La Ronge Sask. Canada       1   \n",
              "2                   All residents asked to 'shelter in place' are ...       1   \n",
              "3                   13,000 people receive #wildfires evacuation or...       1   \n",
              "4                   Just got sent this photo from Ruby #Alaska as ...       1   \n",
              "\n",
              "                                                Word  \n",
              "0    Our Deeds are the Reason of this #earthquake...  \n",
              "1             Forest fire near La Ronge Sask. Canada  \n",
              "2    All residents asked to 'shelter in place' ar...  \n",
              "3    13,000 people receive #wildfires evacuation ...  \n",
              "4    Just got sent this photo from Ruby #Alaska a...  "
            ],
            "text/html": [
              "\n",
              "  <div id=\"df-faf667e9-cc05-4d3b-9501-e64976544677\" class=\"colab-df-container\">\n",
              "    <div>\n",
              "<style scoped>\n",
              "    .dataframe tbody tr th:only-of-type {\n",
              "        vertical-align: middle;\n",
              "    }\n",
              "\n",
              "    .dataframe tbody tr th {\n",
              "        vertical-align: top;\n",
              "    }\n",
              "\n",
              "    .dataframe thead th {\n",
              "        text-align: right;\n",
              "    }\n",
              "</style>\n",
              "<table border=\"1\" class=\"dataframe\">\n",
              "  <thead>\n",
              "    <tr style=\"text-align: right;\">\n",
              "      <th></th>\n",
              "      <th>keyword</th>\n",
              "      <th>location</th>\n",
              "      <th>text</th>\n",
              "      <th>target</th>\n",
              "      <th>Word</th>\n",
              "    </tr>\n",
              "  </thead>\n",
              "  <tbody>\n",
              "    <tr>\n",
              "      <th>0</th>\n",
              "      <td></td>\n",
              "      <td></td>\n",
              "      <td>Our Deeds are the Reason of this #earthquake M...</td>\n",
              "      <td>1</td>\n",
              "      <td>Our Deeds are the Reason of this #earthquake...</td>\n",
              "    </tr>\n",
              "    <tr>\n",
              "      <th>1</th>\n",
              "      <td></td>\n",
              "      <td></td>\n",
              "      <td>Forest fire near La Ronge Sask. Canada</td>\n",
              "      <td>1</td>\n",
              "      <td>Forest fire near La Ronge Sask. Canada</td>\n",
              "    </tr>\n",
              "    <tr>\n",
              "      <th>2</th>\n",
              "      <td></td>\n",
              "      <td></td>\n",
              "      <td>All residents asked to 'shelter in place' are ...</td>\n",
              "      <td>1</td>\n",
              "      <td>All residents asked to 'shelter in place' ar...</td>\n",
              "    </tr>\n",
              "    <tr>\n",
              "      <th>3</th>\n",
              "      <td></td>\n",
              "      <td></td>\n",
              "      <td>13,000 people receive #wildfires evacuation or...</td>\n",
              "      <td>1</td>\n",
              "      <td>13,000 people receive #wildfires evacuation ...</td>\n",
              "    </tr>\n",
              "    <tr>\n",
              "      <th>4</th>\n",
              "      <td></td>\n",
              "      <td></td>\n",
              "      <td>Just got sent this photo from Ruby #Alaska as ...</td>\n",
              "      <td>1</td>\n",
              "      <td>Just got sent this photo from Ruby #Alaska a...</td>\n",
              "    </tr>\n",
              "  </tbody>\n",
              "</table>\n",
              "</div>\n",
              "    <div class=\"colab-df-buttons\">\n",
              "\n",
              "  <div class=\"colab-df-container\">\n",
              "    <button class=\"colab-df-convert\" onclick=\"convertToInteractive('df-faf667e9-cc05-4d3b-9501-e64976544677')\"\n",
              "            title=\"Convert this dataframe to an interactive table.\"\n",
              "            style=\"display:none;\">\n",
              "\n",
              "  <svg xmlns=\"http://www.w3.org/2000/svg\" height=\"24px\" viewBox=\"0 -960 960 960\">\n",
              "    <path d=\"M120-120v-720h720v720H120Zm60-500h600v-160H180v160Zm220 220h160v-160H400v160Zm0 220h160v-160H400v160ZM180-400h160v-160H180v160Zm440 0h160v-160H620v160ZM180-180h160v-160H180v160Zm440 0h160v-160H620v160Z\"/>\n",
              "  </svg>\n",
              "    </button>\n",
              "\n",
              "  <style>\n",
              "    .colab-df-container {\n",
              "      display:flex;\n",
              "      gap: 12px;\n",
              "    }\n",
              "\n",
              "    .colab-df-convert {\n",
              "      background-color: #E8F0FE;\n",
              "      border: none;\n",
              "      border-radius: 50%;\n",
              "      cursor: pointer;\n",
              "      display: none;\n",
              "      fill: #1967D2;\n",
              "      height: 32px;\n",
              "      padding: 0 0 0 0;\n",
              "      width: 32px;\n",
              "    }\n",
              "\n",
              "    .colab-df-convert:hover {\n",
              "      background-color: #E2EBFA;\n",
              "      box-shadow: 0px 1px 2px rgba(60, 64, 67, 0.3), 0px 1px 3px 1px rgba(60, 64, 67, 0.15);\n",
              "      fill: #174EA6;\n",
              "    }\n",
              "\n",
              "    .colab-df-buttons div {\n",
              "      margin-bottom: 4px;\n",
              "    }\n",
              "\n",
              "    [theme=dark] .colab-df-convert {\n",
              "      background-color: #3B4455;\n",
              "      fill: #D2E3FC;\n",
              "    }\n",
              "\n",
              "    [theme=dark] .colab-df-convert:hover {\n",
              "      background-color: #434B5C;\n",
              "      box-shadow: 0px 1px 3px 1px rgba(0, 0, 0, 0.15);\n",
              "      filter: drop-shadow(0px 1px 2px rgba(0, 0, 0, 0.3));\n",
              "      fill: #FFFFFF;\n",
              "    }\n",
              "  </style>\n",
              "\n",
              "    <script>\n",
              "      const buttonEl =\n",
              "        document.querySelector('#df-faf667e9-cc05-4d3b-9501-e64976544677 button.colab-df-convert');\n",
              "      buttonEl.style.display =\n",
              "        google.colab.kernel.accessAllowed ? 'block' : 'none';\n",
              "\n",
              "      async function convertToInteractive(key) {\n",
              "        const element = document.querySelector('#df-faf667e9-cc05-4d3b-9501-e64976544677');\n",
              "        const dataTable =\n",
              "          await google.colab.kernel.invokeFunction('convertToInteractive',\n",
              "                                                    [key], {});\n",
              "        if (!dataTable) return;\n",
              "\n",
              "        const docLinkHtml = 'Like what you see? Visit the ' +\n",
              "          '<a target=\"_blank\" href=https://colab.research.google.com/notebooks/data_table.ipynb>data table notebook</a>'\n",
              "          + ' to learn more about interactive tables.';\n",
              "        element.innerHTML = '';\n",
              "        dataTable['output_type'] = 'display_data';\n",
              "        await google.colab.output.renderOutput(dataTable, element);\n",
              "        const docLink = document.createElement('div');\n",
              "        docLink.innerHTML = docLinkHtml;\n",
              "        element.appendChild(docLink);\n",
              "      }\n",
              "    </script>\n",
              "  </div>\n",
              "\n",
              "\n",
              "<div id=\"df-6a5d0ac8-9fea-4734-8bd0-205ba0285751\">\n",
              "  <button class=\"colab-df-quickchart\" onclick=\"quickchart('df-6a5d0ac8-9fea-4734-8bd0-205ba0285751')\"\n",
              "            title=\"Suggest charts\"\n",
              "            style=\"display:none;\">\n",
              "\n",
              "<svg xmlns=\"http://www.w3.org/2000/svg\" height=\"24px\"viewBox=\"0 0 24 24\"\n",
              "     width=\"24px\">\n",
              "    <g>\n",
              "        <path d=\"M19 3H5c-1.1 0-2 .9-2 2v14c0 1.1.9 2 2 2h14c1.1 0 2-.9 2-2V5c0-1.1-.9-2-2-2zM9 17H7v-7h2v7zm4 0h-2V7h2v10zm4 0h-2v-4h2v4z\"/>\n",
              "    </g>\n",
              "</svg>\n",
              "  </button>\n",
              "\n",
              "<style>\n",
              "  .colab-df-quickchart {\n",
              "      --bg-color: #E8F0FE;\n",
              "      --fill-color: #1967D2;\n",
              "      --hover-bg-color: #E2EBFA;\n",
              "      --hover-fill-color: #174EA6;\n",
              "      --disabled-fill-color: #AAA;\n",
              "      --disabled-bg-color: #DDD;\n",
              "  }\n",
              "\n",
              "  [theme=dark] .colab-df-quickchart {\n",
              "      --bg-color: #3B4455;\n",
              "      --fill-color: #D2E3FC;\n",
              "      --hover-bg-color: #434B5C;\n",
              "      --hover-fill-color: #FFFFFF;\n",
              "      --disabled-bg-color: #3B4455;\n",
              "      --disabled-fill-color: #666;\n",
              "  }\n",
              "\n",
              "  .colab-df-quickchart {\n",
              "    background-color: var(--bg-color);\n",
              "    border: none;\n",
              "    border-radius: 50%;\n",
              "    cursor: pointer;\n",
              "    display: none;\n",
              "    fill: var(--fill-color);\n",
              "    height: 32px;\n",
              "    padding: 0;\n",
              "    width: 32px;\n",
              "  }\n",
              "\n",
              "  .colab-df-quickchart:hover {\n",
              "    background-color: var(--hover-bg-color);\n",
              "    box-shadow: 0 1px 2px rgba(60, 64, 67, 0.3), 0 1px 3px 1px rgba(60, 64, 67, 0.15);\n",
              "    fill: var(--button-hover-fill-color);\n",
              "  }\n",
              "\n",
              "  .colab-df-quickchart-complete:disabled,\n",
              "  .colab-df-quickchart-complete:disabled:hover {\n",
              "    background-color: var(--disabled-bg-color);\n",
              "    fill: var(--disabled-fill-color);\n",
              "    box-shadow: none;\n",
              "  }\n",
              "\n",
              "  .colab-df-spinner {\n",
              "    border: 2px solid var(--fill-color);\n",
              "    border-color: transparent;\n",
              "    border-bottom-color: var(--fill-color);\n",
              "    animation:\n",
              "      spin 1s steps(1) infinite;\n",
              "  }\n",
              "\n",
              "  @keyframes spin {\n",
              "    0% {\n",
              "      border-color: transparent;\n",
              "      border-bottom-color: var(--fill-color);\n",
              "      border-left-color: var(--fill-color);\n",
              "    }\n",
              "    20% {\n",
              "      border-color: transparent;\n",
              "      border-left-color: var(--fill-color);\n",
              "      border-top-color: var(--fill-color);\n",
              "    }\n",
              "    30% {\n",
              "      border-color: transparent;\n",
              "      border-left-color: var(--fill-color);\n",
              "      border-top-color: var(--fill-color);\n",
              "      border-right-color: var(--fill-color);\n",
              "    }\n",
              "    40% {\n",
              "      border-color: transparent;\n",
              "      border-right-color: var(--fill-color);\n",
              "      border-top-color: var(--fill-color);\n",
              "    }\n",
              "    60% {\n",
              "      border-color: transparent;\n",
              "      border-right-color: var(--fill-color);\n",
              "    }\n",
              "    80% {\n",
              "      border-color: transparent;\n",
              "      border-right-color: var(--fill-color);\n",
              "      border-bottom-color: var(--fill-color);\n",
              "    }\n",
              "    90% {\n",
              "      border-color: transparent;\n",
              "      border-bottom-color: var(--fill-color);\n",
              "    }\n",
              "  }\n",
              "</style>\n",
              "\n",
              "  <script>\n",
              "    async function quickchart(key) {\n",
              "      const quickchartButtonEl =\n",
              "        document.querySelector('#' + key + ' button');\n",
              "      quickchartButtonEl.disabled = true;  // To prevent multiple clicks.\n",
              "      quickchartButtonEl.classList.add('colab-df-spinner');\n",
              "      try {\n",
              "        const charts = await google.colab.kernel.invokeFunction(\n",
              "            'suggestCharts', [key], {});\n",
              "      } catch (error) {\n",
              "        console.error('Error during call to suggestCharts:', error);\n",
              "      }\n",
              "      quickchartButtonEl.classList.remove('colab-df-spinner');\n",
              "      quickchartButtonEl.classList.add('colab-df-quickchart-complete');\n",
              "    }\n",
              "    (() => {\n",
              "      let quickchartButtonEl =\n",
              "        document.querySelector('#df-6a5d0ac8-9fea-4734-8bd0-205ba0285751 button');\n",
              "      quickchartButtonEl.style.display =\n",
              "        google.colab.kernel.accessAllowed ? 'block' : 'none';\n",
              "    })();\n",
              "  </script>\n",
              "</div>\n",
              "    </div>\n",
              "  </div>\n"
            ],
            "application/vnd.google.colaboratory.intrinsic+json": {
              "type": "dataframe",
              "variable_name": "data",
              "summary": "{\n  \"name\": \"data\",\n  \"rows\": 7613,\n  \"fields\": [\n    {\n      \"column\": \"keyword\",\n      \"properties\": {\n        \"dtype\": \"category\",\n        \"num_unique_values\": 222,\n        \"samples\": [\n          \"outbreak\",\n          \"wildfire\",\n          \"avalanche\"\n        ],\n        \"semantic_type\": \"\",\n        \"description\": \"\"\n      }\n    },\n    {\n      \"column\": \"location\",\n      \"properties\": {\n        \"dtype\": \"category\",\n        \"num_unique_values\": 3342,\n        \"samples\": [\n          \"L/S/Z/L/T/H/C/H/R/A/S/C\",\n          \"Milton/Tallahassee\",\n          \"Jamaica\"\n        ],\n        \"semantic_type\": \"\",\n        \"description\": \"\"\n      }\n    },\n    {\n      \"column\": \"text\",\n      \"properties\": {\n        \"dtype\": \"string\",\n        \"num_unique_values\": 7503,\n        \"samples\": [\n          \"Three Homes Demolished in Unrecognized Arab Village - International Middle East Media Center http://t.co/ik8m4Yi9T4\",\n          \"Reid Lake fire prompts campground evacuation order http://t.co/jBODKM6rBU\",\n          \"FAAN orders evacuation of abandoned aircraft at MMA http://t.co/dEvYbnVXGQ via @todayng\"\n        ],\n        \"semantic_type\": \"\",\n        \"description\": \"\"\n      }\n    },\n    {\n      \"column\": \"target\",\n      \"properties\": {\n        \"dtype\": \"number\",\n        \"std\": 0,\n        \"min\": 0,\n        \"max\": 1,\n        \"num_unique_values\": 2,\n        \"samples\": [\n          0,\n          1\n        ],\n        \"semantic_type\": \"\",\n        \"description\": \"\"\n      }\n    },\n    {\n      \"column\": \"Word\",\n      \"properties\": {\n        \"dtype\": \"string\",\n        \"num_unique_values\": 7552,\n        \"samples\": [\n          \"bridge%20collapse Vit\\u00cc_ria (ES) A Marshall Plan for the United States by Dambisa Moyo via @ProSyn #oped http://t.co/GnPStnvi5G via @po_st\",\n          \"arson Jerusalem Mourning notices for stabbing arson victims stir \\u0089\\u00db\\u00f7politics of grief\\u0089\\u00db\\u00aa in Israel: Posters for Shira Banki and A... http://t.co/3GZ5zQQTHe\"\n        ],\n        \"semantic_type\": \"\",\n        \"description\": \"\"\n      }\n    }\n  ]\n}"
            }
          },
          "metadata": {},
          "execution_count": 43
        }
      ]
    },
    {
      "cell_type": "code",
      "source": [
        "y.value_counts()"
      ],
      "metadata": {
        "colab": {
          "base_uri": "https://localhost:8080/"
        },
        "id": "2_y8qy-F6U5y",
        "outputId": "83a002f4-f8f7-4f1a-c6e4-3f02f82b13a2"
      },
      "execution_count": null,
      "outputs": [
        {
          "output_type": "execute_result",
          "data": {
            "text/plain": [
              "target\n",
              "0    4342\n",
              "1    3271\n",
              "Name: count, dtype: int64"
            ]
          },
          "metadata": {},
          "execution_count": 44
        }
      ]
    },
    {
      "cell_type": "markdown",
      "source": [
        "Распределение классов не совсем равномерное"
      ],
      "metadata": {
        "id": "duM535Cf6YF9"
      }
    },
    {
      "cell_type": "code",
      "source": [
        "X_train, X_test, y_train, y_test = train_test_split(X, y, test_size = 0.3, random_state = 42)\n",
        "X_train"
      ],
      "metadata": {
        "colab": {
          "base_uri": "https://localhost:8080/"
        },
        "id": "dmQV7hSlOTkg",
        "outputId": "bd89084c-8153-43fd-d0bf-26e9e89da52e"
      },
      "execution_count": null,
      "outputs": [
        {
          "output_type": "execute_result",
          "data": {
            "text/plain": [
              "1186    bridge%20collapse  Ashes 2015: AustraliaÛªs c...\n",
              "4071    hail Carol Stream, Illinois GREAT MICHIGAN TEC...\n",
              "5461    police Houston  CNN: Tennessee movie theater s...\n",
              "5787    rioting  Still rioting in a couple of hours le...\n",
              "7445    wounds Lake Highlands Crack in the path where ...\n",
              "                              ...                        \n",
              "5226    obliteration Merica! @Eganator2000 There aren'...\n",
              "5390    panic  just had a panic attack bc I don't have...\n",
              "860     blood  Omron HEM-712C Automatic Blood Pressure...\n",
              "7603      Officials say a quarantine is in place at an...\n",
              "7270    whirlwind Stamford & Cork (& Shropshire) I mov...\n",
              "Name: Word, Length: 5329, dtype: object"
            ]
          },
          "metadata": {},
          "execution_count": 45
        }
      ]
    },
    {
      "cell_type": "markdown",
      "source": [
        "Далее мы будем пока работать только с train частью. Предобработаем данные (train часть) с помощью CountVectorizer."
      ],
      "metadata": {
        "id": "mxYhnzZ4muxp"
      }
    },
    {
      "cell_type": "code",
      "source": [
        "from sklearn.feature_extraction.text import CountVectorizer\n",
        "\n",
        "vectorizer = CountVectorizer(encoding = 'utf8')\n",
        "vectorizer.fit(X_train);"
      ],
      "metadata": {
        "id": "YkJJPFIum03L"
      },
      "execution_count": null,
      "outputs": []
    },
    {
      "cell_type": "code",
      "source": [
        "vectorized_data = vectorizer.transform(X_train)\n",
        "vectorized_data.shape"
      ],
      "metadata": {
        "colab": {
          "base_uri": "https://localhost:8080/"
        },
        "id": "xTN9Cr3OPj4x",
        "outputId": "399746a6-e736-492c-d356-287334229bb7"
      },
      "execution_count": null,
      "outputs": [
        {
          "output_type": "execute_result",
          "data": {
            "text/plain": [
              "(5329, 18455)"
            ]
          },
          "metadata": {},
          "execution_count": 47
        }
      ]
    },
    {
      "cell_type": "markdown",
      "source": [
        "5329 текстов, что соответствует размеру X_train,  \n",
        "18455 различных слов в них"
      ],
      "metadata": {
        "id": "XjAOzb2IP2Mp"
      }
    },
    {
      "cell_type": "markdown",
      "source": [
        "**Работа со словарем**"
      ],
      "metadata": {
        "id": "THETqWz1m6Ww"
      }
    },
    {
      "cell_type": "markdown",
      "source": [
        "\n",
        "Получается достаточно большая матрица.  \n",
        "При этом в тексте есть множество специальных символов, ссылок, прочего мусора.\n",
        "\n",
        "Посмотрим на словарь, который получился в результате построения CountVectorizer. Напишем функцию, которая печатает ответы на следующие вопросы:\n",
        "\n",
        "1. Найдем количество слов, содержащих цифры.\n",
        "\n",
        "2. Найдем количество слов, которые содержат символы пунктуации.\n",
        "\n",
        "3. Найдем количество хэштегов (токенов, начинающихся с #) и упоминаний (токенов, начинающихся с @)."
      ],
      "metadata": {
        "id": "htxogtuTm5VY"
      }
    },
    {
      "cell_type": "code",
      "source": [
        "def contains_digit(s: str) -> bool:\n",
        "    #Проверка, содержит ли слово цифры\n",
        "    return any(char.isdigit() for char in s)\n",
        "\n",
        "def contains_punctuation(s: str) -> bool:\n",
        "    #Проверка, содержит ли слово пунктуацию\n",
        "    punctuations = string.punctuation\n",
        "    return any(char in punctuations for char in s)\n",
        "\n",
        "def is_hashtag(s: str) -> bool:\n",
        "    #Проверка, является ли слово хэштегом\n",
        "    return s[0] == '#' if len(s) > 0 else 0\n",
        "\n",
        "def is_mention(s: str) -> bool:\n",
        "    #Проверка, является ли слово упоминанием\n",
        "    return s[0] == '@' if len(s) > 0 else 0\n",
        "\n",
        "def investigate_vocabulary(vocabulary):\n",
        "    keys = list(vocabulary.keys())\n",
        "    info = {\n",
        "        'digit': 0,\n",
        "        'punctuation': 0,\n",
        "        'hashtags': 0,\n",
        "        'mentions': 0\n",
        "    }\n",
        "\n",
        "    for key in keys:\n",
        "      info['digit']       += contains_digit(key)\n",
        "      info['punctuation'] += contains_punctuation(key)\n",
        "      info['hashtags']    += is_hashtag(key)\n",
        "      info['mentions']    += is_mention(key)\n",
        "\n",
        "    print('With digit:      ', info['digit']\n",
        "          )\n",
        "    print('With punctuation:', info['punctuation']\n",
        "          )\n",
        "    print('Hashtags:        ', info['hashtags']\n",
        "          )\n",
        "    print('Mentions:        ', info['mentions']\n",
        "          )"
      ],
      "metadata": {
        "id": "Vvfk4OfLnEyT"
      },
      "execution_count": null,
      "outputs": []
    },
    {
      "cell_type": "code",
      "source": [
        "dummy_vocab = {'th1nk' : 0,\n",
        "               'think333' : 1,\n",
        "               'think.' : 2,\n",
        "               'th!nk' : 3,\n",
        "               'th...nk' : 4,\n",
        "               '#think' : 5,\n",
        "               '@think' : 6,\n",
        "               '@thinking':7,\n",
        "               '@nothink' : 8,\n",
        "               'think' : 9}\n",
        "investigate_vocabulary(dummy_vocab)"
      ],
      "metadata": {
        "colab": {
          "base_uri": "https://localhost:8080/"
        },
        "id": "603DoaaNSJUh",
        "outputId": "363d473f-3a5c-4eb9-e4f5-2bfc9a4e29b8"
      },
      "execution_count": null,
      "outputs": [
        {
          "output_type": "stream",
          "name": "stdout",
          "text": [
            "With digit:       2\n",
            "With punctuation: 7\n",
            "Hashtags:         1\n",
            "Mentions:         3\n"
          ]
        }
      ]
    },
    {
      "cell_type": "code",
      "source": [
        "investigate_vocabulary(vectorizer.vocabulary_\n",
        "                       )"
      ],
      "metadata": {
        "id": "1SoFUETTnHvS",
        "colab": {
          "base_uri": "https://localhost:8080/"
        },
        "outputId": "12e8af53-f361-4c2d-a7fd-ef7ae529d16a"
      },
      "execution_count": null,
      "outputs": [
        {
          "output_type": "stream",
          "name": "stdout",
          "text": [
            "With digit:       3812\n",
            "With punctuation: 315\n",
            "Hashtags:         0\n",
            "Mentions:         0\n"
          ]
        }
      ]
    },
    {
      "cell_type": "markdown",
      "source": [
        "Получаем 0 в *Hashtags* и *Mentions*.  \n",
        "Это связано с тем, что по умолчанию `tokenizer` в `CountVectorizer` удаляет символы пунктуации"
      ],
      "metadata": {
        "id": "sjXCHeTOb8xy"
      }
    },
    {
      "cell_type": "markdown",
      "source": [
        "#### Токенизация"
      ],
      "metadata": {
        "id": "sJ3BHTYrnaJF"
      }
    },
    {
      "cell_type": "markdown",
      "source": [
        "По умолчанию CountVectorizer определяет токен (слово) как последовательность 2 и более цифр или букв. Пунктуационные символы воспринимаются как разделитель токенов. Такой подход может быть не очень полезен при анализе твитов.\n",
        "\n",
        "Существуют токенайзеры - модели, которые разбивают тексты на токены (слова), они разные в зависимости от задачи. Например, в nltk есть токенизатор для твитов - TweetTokenizer.\n",
        "\n",
        "Попробуем применить CountVectorizer с этим токенизатором. Применим TweetTokenizer и сравним ответы с предыдущим пунктом."
      ],
      "metadata": {
        "id": "LaOgnVK3nkgJ"
      }
    },
    {
      "cell_type": "code",
      "source": [
        "import nltk"
      ],
      "metadata": {
        "id": "cEI3bz_6fSBQ"
      },
      "execution_count": null,
      "outputs": []
    },
    {
      "cell_type": "code",
      "source": [
        "from nltk.tokenize import TweetTokenizer\n",
        "# Чтобы узнать, какие параметры есть у этого токенайзера - используем help(TweetTokenizer)\n",
        "\n",
        "help(TweetTokenizer)"
      ],
      "metadata": {
        "id": "hzh3MxE1ozsP",
        "colab": {
          "base_uri": "https://localhost:8080/"
        },
        "outputId": "5b4bf492-688e-43dd-e6d8-e6ee0367a4eb"
      },
      "execution_count": null,
      "outputs": [
        {
          "output_type": "stream",
          "name": "stdout",
          "text": [
            "Help on class TweetTokenizer in module nltk.tokenize.casual:\n",
            "\n",
            "class TweetTokenizer(nltk.tokenize.api.TokenizerI)\n",
            " |  TweetTokenizer(preserve_case=True, reduce_len=False, strip_handles=False, match_phone_numbers=True)\n",
            " |  \n",
            " |  Tokenizer for tweets.\n",
            " |  \n",
            " |      >>> from nltk.tokenize import TweetTokenizer\n",
            " |      >>> tknzr = TweetTokenizer()\n",
            " |      >>> s0 = \"This is a cooool #dummysmiley: :-) :-P <3 and some arrows < > -> <--\"\n",
            " |      >>> tknzr.tokenize(s0) # doctest: +NORMALIZE_WHITESPACE\n",
            " |      ['This', 'is', 'a', 'cooool', '#dummysmiley', ':', ':-)', ':-P', '<3', 'and', 'some', 'arrows', '<', '>', '->',\n",
            " |       '<--']\n",
            " |  \n",
            " |  Examples using `strip_handles` and `reduce_len parameters`:\n",
            " |  \n",
            " |      >>> tknzr = TweetTokenizer(strip_handles=True, reduce_len=True)\n",
            " |      >>> s1 = '@remy: This is waaaaayyyy too much for you!!!!!!'\n",
            " |      >>> tknzr.tokenize(s1)\n",
            " |      [':', 'This', 'is', 'waaayyy', 'too', 'much', 'for', 'you', '!', '!', '!']\n",
            " |  \n",
            " |  Method resolution order:\n",
            " |      TweetTokenizer\n",
            " |      nltk.tokenize.api.TokenizerI\n",
            " |      abc.ABC\n",
            " |      builtins.object\n",
            " |  \n",
            " |  Methods defined here:\n",
            " |  \n",
            " |  __init__(self, preserve_case=True, reduce_len=False, strip_handles=False, match_phone_numbers=True)\n",
            " |      Create a `TweetTokenizer` instance with settings for use in the `tokenize` method.\n",
            " |      \n",
            " |      :param preserve_case: Flag indicating whether to preserve the casing (capitalisation)\n",
            " |          of text used in the `tokenize` method. Defaults to True.\n",
            " |      :type preserve_case: bool\n",
            " |      :param reduce_len: Flag indicating whether to replace repeated character sequences\n",
            " |          of length 3 or greater with sequences of length 3. Defaults to False.\n",
            " |      :type reduce_len: bool\n",
            " |      :param strip_handles: Flag indicating whether to remove Twitter handles of text used\n",
            " |          in the `tokenize` method. Defaults to False.\n",
            " |      :type strip_handles: bool\n",
            " |      :param match_phone_numbers: Flag indicating whether the `tokenize` method should look\n",
            " |          for phone numbers. Defaults to True.\n",
            " |      :type match_phone_numbers: bool\n",
            " |  \n",
            " |  tokenize(self, text: str) -> List[str]\n",
            " |      Tokenize the input text.\n",
            " |      \n",
            " |      :param text: str\n",
            " |      :rtype: list(str)\n",
            " |      :return: a tokenized list of strings; joining this list returns        the original string if `preserve_case=False`.\n",
            " |  \n",
            " |  ----------------------------------------------------------------------\n",
            " |  Readonly properties defined here:\n",
            " |  \n",
            " |  PHONE_WORD_RE\n",
            " |      Secondary core TweetTokenizer regex\n",
            " |  \n",
            " |  WORD_RE\n",
            " |      Core TweetTokenizer regex\n",
            " |  \n",
            " |  ----------------------------------------------------------------------\n",
            " |  Data and other attributes defined here:\n",
            " |  \n",
            " |  __abstractmethods__ = frozenset()\n",
            " |  \n",
            " |  ----------------------------------------------------------------------\n",
            " |  Methods inherited from nltk.tokenize.api.TokenizerI:\n",
            " |  \n",
            " |  span_tokenize(self, s: str) -> Iterator[Tuple[int, int]]\n",
            " |      Identify the tokens using integer offsets ``(start_i, end_i)``,\n",
            " |      where ``s[start_i:end_i]`` is the corresponding token.\n",
            " |      \n",
            " |      :rtype: Iterator[Tuple[int, int]]\n",
            " |  \n",
            " |  span_tokenize_sents(self, strings: List[str]) -> Iterator[List[Tuple[int, int]]]\n",
            " |      Apply ``self.span_tokenize()`` to each element of ``strings``.  I.e.:\n",
            " |      \n",
            " |          return [self.span_tokenize(s) for s in strings]\n",
            " |      \n",
            " |      :yield: List[Tuple[int, int]]\n",
            " |  \n",
            " |  tokenize_sents(self, strings: List[str]) -> List[List[str]]\n",
            " |      Apply ``self.tokenize()`` to each element of ``strings``.  I.e.:\n",
            " |      \n",
            " |          return [self.tokenize(s) for s in strings]\n",
            " |      \n",
            " |      :rtype: List[List[str]]\n",
            " |  \n",
            " |  ----------------------------------------------------------------------\n",
            " |  Data descriptors inherited from nltk.tokenize.api.TokenizerI:\n",
            " |  \n",
            " |  __dict__\n",
            " |      dictionary for instance variables (if defined)\n",
            " |  \n",
            " |  __weakref__\n",
            " |      list of weak references to the object (if defined)\n",
            "\n"
          ]
        }
      ]
    },
    {
      "cell_type": "markdown",
      "source": [
        "Тексты выглядят адекватными, поэтому reduce_len применять смысла нет.  \n",
        "Обязательно нужно поставить strip_handles = False, чтобы слова, начинающиеся с пунктуации не пропускались"
      ],
      "metadata": {
        "id": "zq5SQvgyc_wf"
      }
    },
    {
      "cell_type": "code",
      "source": [
        "def tweet_tokenizer(text):\n",
        "  t = TweetTokenizer()\n",
        "  return t.tokenize(text)"
      ],
      "metadata": {
        "id": "-LnInMC3eFUg"
      },
      "execution_count": null,
      "outputs": []
    },
    {
      "cell_type": "code",
      "source": [
        "vectorizer_tweet = CountVectorizer(encoding = 'utf8', tokenizer = tweet_tokenizer)"
      ],
      "metadata": {
        "id": "PtE57aBgdVA3"
      },
      "execution_count": null,
      "outputs": []
    },
    {
      "cell_type": "code",
      "source": [
        "tweeted_data = vectorizer_tweet.fit_transform(X_train)\n",
        "tweeted_data.shape"
      ],
      "metadata": {
        "colab": {
          "base_uri": "https://localhost:8080/"
        },
        "id": "06xmDVOUdryW",
        "outputId": "ae3d0d24-3a6b-40e3-a771-5c2ac7d89f21"
      },
      "execution_count": null,
      "outputs": [
        {
          "output_type": "stream",
          "name": "stderr",
          "text": [
            "/usr/local/lib/python3.10/dist-packages/sklearn/feature_extraction/text.py:528: UserWarning: The parameter 'token_pattern' will not be used since 'tokenizer' is not None'\n",
            "  warnings.warn(\n"
          ]
        },
        {
          "output_type": "execute_result",
          "data": {
            "text/plain": [
              "(5329, 19670)"
            ]
          },
          "metadata": {},
          "execution_count": 55
        }
      ]
    },
    {
      "cell_type": "code",
      "source": [
        "investigate_vocabulary(vectorizer_tweet.vocabulary_)"
      ],
      "metadata": {
        "colab": {
          "base_uri": "https://localhost:8080/"
        },
        "id": "MvAhKNhIenok",
        "outputId": "6e501d41-3962-4f05-9430-2be6ee372cb3"
      },
      "execution_count": null,
      "outputs": [
        {
          "output_type": "stream",
          "name": "stdout",
          "text": [
            "With digit:       3939\n",
            "With punctuation: 7338\n",
            "Hashtags:         1470\n",
            "Mentions:         1679\n"
          ]
        }
      ]
    },
    {
      "cell_type": "markdown",
      "source": [
        "**Вывод:**   \n",
        "Отличия в том, что *TweetTokenizer* не пропускает слова, начинающиеся с @ #, что может быть удобно при анализе подобных текстов"
      ],
      "metadata": {
        "id": "wOozB8Z0o6DF"
      }
    },
    {
      "cell_type": "markdown",
      "source": [
        "#### Кастомный токенайзер"
      ],
      "metadata": {
        "id": "676yR7ItpCOx"
      }
    },
    {
      "cell_type": "markdown",
      "source": [
        "\n",
        "В scikit-learn мы можем оценивать процесс подсчета матрицы через CountVectorizer. У CountVectorizer, как и у других наследников \\_VectorizerMixin, есть аргумент tokenizer и preprocessor. preprocessor применяется в самом начале к каждой строке вашего датасета, tokenizer же принимает строку и возвращает токены.\n",
        "Напишем кастомный токенайзер, который будет делать следующее:\n",
        "\n",
        "0. Приведет все буквы к нижнему регистру\n",
        "1. Разобьет текст на токены с помощью TweetTokenizer из пакета nltk\n",
        "2. Удалит все токены содержащие не латинские буквы, кроме смайликов (будем считать ими токены содержащие только пунктуацию и, как минимум, одну скобочку) и хэштегов, которые после начальной # содержат только латинские буквы.\n",
        "3. Удалит все токены, которые перечислены в nltk.corpus.stopwords.words('english')\n",
        "4. Проведет стемминг с помощью SnowballStemmer\n"
      ],
      "metadata": {
        "id": "QpWblbJOpBLX"
      }
    },
    {
      "cell_type": "code",
      "source": [
        "nltk.download('stopwords')"
      ],
      "metadata": {
        "colab": {
          "base_uri": "https://localhost:8080/"
        },
        "id": "ra7uzwfio5qz",
        "outputId": "f316001f-a104-459d-f3f5-488922c5dd36"
      },
      "execution_count": null,
      "outputs": [
        {
          "output_type": "stream",
          "name": "stderr",
          "text": [
            "[nltk_data] Downloading package stopwords to /root/nltk_data...\n",
            "[nltk_data]   Unzipping corpora/stopwords.zip.\n"
          ]
        },
        {
          "output_type": "execute_result",
          "data": {
            "text/plain": [
              "True"
            ]
          },
          "metadata": {},
          "execution_count": 57
        }
      ]
    },
    {
      "cell_type": "code",
      "source": [
        "from nltk.stem.snowball import EnglishStemmer"
      ],
      "metadata": {
        "id": "AueE_b276guP"
      },
      "execution_count": null,
      "outputs": []
    },
    {
      "cell_type": "code",
      "source": [
        "def contains_only_latin_letters(s: str) -> bool:\n",
        "    #Проверка, содержит ли слово только латинские буквы\n",
        "    return bool(re.compile(\"^[a-zA-Z]+$\").match(s))\n",
        "\n",
        "def is_emoji(s: str) -> bool:\n",
        "    #Проверка, является ли слово смайликом\n",
        "    return all(char in string.punctuation for char in s) and s.count(')') >= 1\n",
        "\n",
        "def is_hashtag(s: str) -> bool:\n",
        "    #Проверка, является ли слово хэштегом\n",
        "    if len(s) > 1 and s[0] == '#' and contains_only_latin_letters(s[1:]):\n",
        "      return True\n",
        "\n",
        "def custom_tokenizer(s: str) -> List[str]:\n",
        "    #Кастомный токенайзер\n",
        "    stemmer = EnglishStemmer()\n",
        "    #0\n",
        "    s = s.lower()\n",
        "\n",
        "    #1\n",
        "    tokens = np.array(tweet_tokenizer(s))\n",
        "\n",
        "    #2, 3\n",
        "    indexes = [0] * len(tokens)\n",
        "    for i in range(len(tokens)):\n",
        "      token = tokens[i]\n",
        "      if token in nltk.corpus.stopwords.words('english'):\n",
        "        indexes[i] = False\n",
        "      elif is_hashtag(token) or is_emoji(token) or contains_only_latin_letters(token):\n",
        "        indexes[i] = True\n",
        "      else:\n",
        "        indexes[i] = False\n",
        "    tokens = tokens[indexes]\n",
        "    #4\n",
        "    for i in range(len(tokens)):\n",
        "      tokens[i] = stemmer.stem(tokens[i])\n",
        "    return tokens.tolist()"
      ],
      "metadata": {
        "id": "qZ7Uy2FDpaAr"
      },
      "execution_count": null,
      "outputs": []
    },
    {
      "cell_type": "code",
      "source": [
        "custom_tokenizer('She LOVES painting :-) #art')"
      ],
      "metadata": {
        "colab": {
          "base_uri": "https://localhost:8080/"
        },
        "id": "HgHUxPrdpbhf",
        "outputId": "bbdc93cc-e225-4eb1-90bb-b4c5a6f85838"
      },
      "execution_count": null,
      "outputs": [
        {
          "output_type": "execute_result",
          "data": {
            "text/plain": [
              "['love', 'paint', ':-)', '#art']"
            ]
          },
          "metadata": {},
          "execution_count": 60
        }
      ]
    },
    {
      "cell_type": "markdown",
      "source": [
        "Продемонстрируем работу функции на первых десяти текстах в обучающей выборке."
      ],
      "metadata": {
        "id": "4P862Z0SpsFC"
      }
    },
    {
      "cell_type": "code",
      "source": [
        "docs = np.array(X_train)\n",
        "[custom_tokenizer(docs[i]) for i in range(10)]"
      ],
      "metadata": {
        "id": "1Y591o8kpvBF",
        "colab": {
          "base_uri": "https://localhost:8080/"
        },
        "outputId": "c2112bb6-6c52-4f81-862a-b22556186920"
      },
      "execution_count": null,
      "outputs": [
        {
          "output_type": "execute_result",
          "data": {
            "text/plain": [
              "[['bridg',\n",
              "  'ash',\n",
              "  'australia',\n",
              "  'collaps',\n",
              "  'trent',\n",
              "  'bridg',\n",
              "  'among',\n",
              "  'worst',\n",
              "  'histori',\n",
              "  'england',\n",
              "  'bundl',\n",
              "  'australia'],\n",
              " ['hail',\n",
              "  'carol',\n",
              "  'stream',\n",
              "  'illinoi',\n",
              "  'great',\n",
              "  'michigan',\n",
              "  'techniqu',\n",
              "  'camp',\n",
              "  'thank',\n",
              "  '#goblu',\n",
              "  '#wrestleon'],\n",
              " ['polic',\n",
              "  'houston',\n",
              "  'cnn',\n",
              "  'tennesse',\n",
              "  'movi',\n",
              "  'theater',\n",
              "  'shoot',\n",
              "  'suspect',\n",
              "  'kill',\n",
              "  'polic'],\n",
              " ['riot', 'still', 'riot', 'coupl', 'hour', 'left', 'class'],\n",
              " ['wound',\n",
              "  'lake',\n",
              "  'highland',\n",
              "  'crack',\n",
              "  'path',\n",
              "  'wipe',\n",
              "  'morn',\n",
              "  'beach',\n",
              "  'run',\n",
              "  'surfac',\n",
              "  'wound',\n",
              "  'left',\n",
              "  'elbow',\n",
              "  'right',\n",
              "  'knee'],\n",
              " ['airplan',\n",
              "  'somewher',\n",
              "  'expert',\n",
              "  'franc',\n",
              "  'begin',\n",
              "  'examin',\n",
              "  'airplan',\n",
              "  'debri',\n",
              "  'found',\n",
              "  'reunion',\n",
              "  'island',\n",
              "  'french',\n",
              "  'air',\n",
              "  'accid',\n",
              "  'expert',\n",
              "  '#mlb'],\n",
              " ['bloodi',\n",
              "  'isol',\n",
              "  'citi',\n",
              "  'world',\n",
              "  'perth',\n",
              "  'came',\n",
              "  'kill',\n",
              "  'indian',\n",
              "  'fun',\n",
              "  'video',\n",
              "  'smirk',\n",
              "  'remorseless',\n",
              "  'pakistani',\n",
              "  'killer',\n",
              "  'show',\n",
              "  'boast'],\n",
              " ['burn', 'except', 'idk', 'realli', 'burn'],\n",
              " ['destroy', 'ask', ')', 'destroy', 'hous'],\n",
              " ['wound',\n",
              "  'maracay',\n",
              "  'nirgua',\n",
              "  'venezuela',\n",
              "  'polic',\n",
              "  'offic',\n",
              "  'wound',\n",
              "  'suspect',\n",
              "  'dead',\n",
              "  'exchang',\n",
              "  'shot']]"
            ]
          },
          "metadata": {},
          "execution_count": 61
        }
      ]
    },
    {
      "cell_type": "markdown",
      "source": [
        "#### Обучение модели"
      ],
      "metadata": {
        "id": "4F221ssSp_d-"
      }
    },
    {
      "cell_type": "markdown",
      "source": [
        "1. Применим CountVectorizer с реализованным выше токенизатором к обучающим и тестовым выборкам.\n",
        "\n",
        "2. Обучим LogisticRegression на полученных признаках.\n",
        "\n",
        "3. Посчитаем метрику f1-score на тестовых данных."
      ],
      "metadata": {
        "id": "I5NTK6n-qGSX"
      }
    },
    {
      "cell_type": "code",
      "source": [
        "from sklearn.metrics import f1_score"
      ],
      "metadata": {
        "id": "g9rXwTLI_3sJ"
      },
      "execution_count": null,
      "outputs": []
    },
    {
      "cell_type": "code",
      "source": [
        "my_vectorizer = CountVectorizer(encoding = 'utf8', tokenizer = custom_tokenizer)\n",
        "train_tokenized = my_vectorizer.fit_transform(X_train)\n",
        "test_tokenized = my_vectorizer.transform(X_test)"
      ],
      "metadata": {
        "id": "Hv1wvtPBqMoq"
      },
      "execution_count": null,
      "outputs": []
    },
    {
      "cell_type": "code",
      "source": [
        "model = LogisticRegression()\n",
        "model.fit(train_tokenized, y_train)\n",
        "y_pred = model.predict(test_tokenized)\n",
        "f1_score(y_test, y_pred)"
      ],
      "metadata": {
        "colab": {
          "base_uri": "https://localhost:8080/"
        },
        "id": "nJ25hByK_rzj",
        "outputId": "fc36af00-313b-4143-b642-bdbeed0c23f8"
      },
      "execution_count": null,
      "outputs": [
        {
          "output_type": "execute_result",
          "data": {
            "text/plain": [
              "0.752953813104189"
            ]
          },
          "metadata": {},
          "execution_count": 64
        }
      ]
    },
    {
      "cell_type": "markdown",
      "source": [
        "#### tf-idf векторайзер"
      ],
      "metadata": {
        "id": "AoCtVBrtqOHJ"
      }
    },
    {
      "cell_type": "markdown",
      "source": [
        "Повторим то же самое с tf-idf векторайзером."
      ],
      "metadata": {
        "id": "Abyd7AWVqUZt"
      }
    },
    {
      "cell_type": "code",
      "source": [
        "from sklearn.feature_extraction.text import TfidfVectorizer"
      ],
      "metadata": {
        "id": "Zu2xoB9Wqgor"
      },
      "execution_count": null,
      "outputs": []
    },
    {
      "cell_type": "code",
      "source": [
        "vectorizer = TfidfVectorizer(encoding='utf8', tokenizer = custom_tokenizer)\n",
        "train_tfidf = vectorizer.fit_transform(X_train)\n",
        "test_tfidf = vectorizer.transform(X_test)\n",
        "train_tfidf.shape"
      ],
      "metadata": {
        "colab": {
          "base_uri": "https://localhost:8080/"
        },
        "id": "7UQDJRbeDJ1o",
        "outputId": "e57af41e-6f9a-4f82-8711-c38f4d08c311"
      },
      "execution_count": null,
      "outputs": [
        {
          "output_type": "stream",
          "name": "stderr",
          "text": [
            "/usr/local/lib/python3.10/dist-packages/sklearn/feature_extraction/text.py:528: UserWarning: The parameter 'token_pattern' will not be used since 'tokenizer' is not None'\n",
            "  warnings.warn(\n"
          ]
        },
        {
          "output_type": "execute_result",
          "data": {
            "text/plain": [
              "(5329, 10476)"
            ]
          },
          "metadata": {},
          "execution_count": 66
        }
      ]
    },
    {
      "cell_type": "code",
      "source": [
        "model = LogisticRegression()\n",
        "model.fit(train_tfidf, y_train)\n",
        "y_pred = model.predict(test_tfidf)\n",
        "f1_score(y_test, y_pred)"
      ],
      "metadata": {
        "colab": {
          "base_uri": "https://localhost:8080/"
        },
        "id": "uYyWWUt6DX8f",
        "outputId": "470856ac-afc7-45d6-f5bd-406026feef8e"
      },
      "execution_count": null,
      "outputs": [
        {
          "output_type": "execute_result",
          "data": {
            "text/plain": [
              "0.7433333333333335"
            ]
          },
          "metadata": {},
          "execution_count": 67
        }
      ]
    },
    {
      "cell_type": "markdown",
      "source": [
        "**Вывод:** Результат практически не изменился"
      ],
      "metadata": {
        "id": "jGDGGfqoql0w"
      }
    },
    {
      "cell_type": "markdown",
      "source": [
        "В векторайзерах есть параметры min_df и max_df - которые отвечают за ограничения минимальной и максимальной частоте встречаемости токена. Например, если min_df = 3, то мы не учитываем токены, которые встретились менее 3 раз в наших текстах.\n",
        "\n",
        "Мы можем еще сильнее уменьшить размер нашей матрицы, если отбросим значения df близкие к единице. Скорее всего такие слова не несут много информации о категории, так как встречаются достаточно часто. Ограничим максимальный df в параметрах TfIdfVectorizer, поставив верхнюю границу равную 0.9."
      ],
      "metadata": {
        "id": "ZjdN1ixpqoiT"
      }
    },
    {
      "cell_type": "code",
      "source": [
        "vectorizer = TfidfVectorizer(encoding = 'utf8', tokenizer = custom_tokenizer, max_df = 0.9)\n",
        "train_tfidf = vectorizer.fit_transform(X_train)\n",
        "test_tfidf = vectorizer.transform(X_test)\n",
        "train_tfidf.shape"
      ],
      "metadata": {
        "id": "E3rlZFvIrUQ9",
        "colab": {
          "base_uri": "https://localhost:8080/"
        },
        "outputId": "df4b5183-c6f3-41f4-97e5-b9b4e11dc638"
      },
      "execution_count": null,
      "outputs": [
        {
          "output_type": "stream",
          "name": "stderr",
          "text": [
            "/usr/local/lib/python3.10/dist-packages/sklearn/feature_extraction/text.py:528: UserWarning: The parameter 'token_pattern' will not be used since 'tokenizer' is not None'\n",
            "  warnings.warn(\n"
          ]
        },
        {
          "output_type": "execute_result",
          "data": {
            "text/plain": [
              "(5329, 10476)"
            ]
          },
          "metadata": {},
          "execution_count": 68
        }
      ]
    },
    {
      "cell_type": "markdown",
      "source": [
        "**Вывод:**  \n",
        "Ничего не изменилось.  \n",
        "Документы сильно разные, нет слов, встречающихся настолько часто."
      ],
      "metadata": {
        "id": "BvVcEuK6rVW8"
      }
    },
    {
      "cell_type": "markdown",
      "source": [
        "Также мы можем уменьшить размер матрицы, удаляя слова со слишком маленьким df."
      ],
      "metadata": {
        "id": "dp5o7ZBSrYRU"
      }
    },
    {
      "cell_type": "code",
      "source": [
        "vectorizer = TfidfVectorizer(encoding = 'utf8', tokenizer = custom_tokenizer, min_df = 0.0005)\n",
        "train_tfidf = vectorizer.fit_transform(X_train)\n",
        "test_tfidf = vectorizer.transform(X_test)\n",
        "train_tfidf.shape"
      ],
      "metadata": {
        "id": "GsJqRVSUrZSh",
        "colab": {
          "base_uri": "https://localhost:8080/"
        },
        "outputId": "71def178-7d55-41aa-e51a-9d727a5b5679"
      },
      "execution_count": null,
      "outputs": [
        {
          "output_type": "execute_result",
          "data": {
            "text/plain": [
              "(5329, 3133)"
            ]
          },
          "metadata": {},
          "execution_count": 69
        }
      ]
    },
    {
      "cell_type": "code",
      "source": [
        "model = LogisticRegression()\n",
        "model.fit(train_tfidf, y_train)\n",
        "y_pred = model.predict(test_tfidf)\n",
        "f1_score(y_test, y_pred)"
      ],
      "metadata": {
        "colab": {
          "base_uri": "https://localhost:8080/"
        },
        "id": "ZvJixkEnHLo_",
        "outputId": "3b3c278c-b279-45be-b4e3-068503210c0a"
      },
      "execution_count": null,
      "outputs": [
        {
          "output_type": "execute_result",
          "data": {
            "text/plain": [
              "0.7444690265486725"
            ]
          },
          "metadata": {},
          "execution_count": 70
        }
      ]
    },
    {
      "cell_type": "markdown",
      "source": [
        "**Вывод:** удалось добиться небольшого улучшения качества"
      ],
      "metadata": {
        "id": "ylVeONHMrZSh"
      }
    }
  ],
  "metadata": {
    "colab": {
      "provenance": []
    },
    "kernelspec": {
      "display_name": "Python 3 (ipykernel)",
      "language": "python",
      "name": "python3"
    },
    "language_info": {
      "codemirror_mode": {
        "name": "ipython",
        "version": 3
      },
      "file_extension": ".py",
      "mimetype": "text/x-python",
      "name": "python",
      "nbconvert_exporter": "python",
      "pygments_lexer": "ipython3",
      "version": "3.9.7"
    }
  },
  "nbformat": 4,
  "nbformat_minor": 0
}
